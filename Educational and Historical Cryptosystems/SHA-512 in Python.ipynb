{
 "cells": [
  {
   "cell_type": "markdown",
   "metadata": {},
   "source": [
    "### Link to the YouTube Video"
   ]
  },
  {
   "cell_type": "markdown",
   "metadata": {},
   "source": [
    "[![IMAGE ALT TEXT HERE](https://img.youtube.com/vi/77Kdw2fzViY/0.jpg)](https://www.youtube.com/watch?v=77Kdw2fzViY)\n",
    "\n",
    "https://www.youtube.com/watch?v=77Kdw2fzViY"
   ]
  },
  {
   "cell_type": "markdown",
   "metadata": {},
   "source": [
    "### Table of Contents\n",
    "\n",
    "* [1 - Required Packages](#packages)\n",
    "* [2 - Preprocessing](#SHA_preprocessing)\n",
    "    * [2.1 - Solving a Congruence Equation in Python](#Sympy_cong)\n",
    "* [3 - Initial Vector and Constants - Prime Numbers](#init)\n",
    "* [4 - SHA512 Logical Functions](#log_fun)\n",
    "    * [4.1 - Logical Functions, Building Blocks](#BulBlock)\n",
    "        * [4.1.1 - Bitwise Complement](#compl.)\n",
    "        * [4.1.2 - AND](#AND)\n",
    "        * [4.1.3 - Bitwise XOR](#XOR)\n",
    "        * [4.1.4 - Right Shift](#right_shift)\n",
    "        * [4.1.5 - Right Rotation](#right_rot)\n",
    "    * [4.2 - Logical Functions, Main Functions](#BulBlock)\n",
    "        * [4.2.1 - Ch](#Ch)\n",
    "        * [4.2.2 - Maj](#Maj)\n",
    "        * [4.2.3 - $\\Sigma_0$](#right_rot)\n",
    "        * [4.2.4 - $\\Sigma_1$](#right_rot)\n",
    "        * [4.2.5 - $\\sigma_0$](#right_rot)\n",
    "        * [4.2.6 - $\\sigma_1$](#right_rot)\n",
    "* [5 - Main Algorithm](#main_algo)\n",
    "    * [5.1 - Message Schedule](#msg_sch)\n",
    "    * [5.2 - Initialize the eight Working Variables](#init_working_variables)\n",
    "    * [5.3 - Nested for-loop](#nested_for_loop)\n",
    "    * [5.4 - Update Hash Values](#update_ith_hash_values)"
   ]
  },
  {
   "cell_type": "markdown",
   "metadata": {},
   "source": [
    "### 1 - Required Packages <a class=\"anchor\" id=\"packages\"></a>"
   ]
  },
  {
   "cell_type": "code",
   "execution_count": 1,
   "metadata": {},
   "outputs": [],
   "source": [
    "from mpmath import * # Python library for real and complex floating-point arithmetic with arbitrary precision\n",
    "\n",
    "import sympy as s # Python library for symbolic mathematics and number theory package\n",
    "\n",
    "from sympy.solvers.diophantine import diophantine # solves the linear congruence "
   ]
  },
  {
   "cell_type": "markdown",
   "metadata": {},
   "source": [
    "### 2 - Preprocessing <a class=\"anchor\" id=\"SHA_preprocessing\"></a>"
   ]
  },
  {
   "cell_type": "markdown",
   "metadata": {},
   "source": [
    "<details>\n",
    "  <summary><b>SHA512 Preprocessing </b>(click to expand) </summary>\n",
    "  \n",
    "  <img src=\"SHA512-Preprocessing.jpg\" width=800 height=800>\n",
    "</details>"
   ]
  },
  {
   "cell_type": "code",
   "execution_count": 2,
   "metadata": {},
   "outputs": [],
   "source": [
    "message = \"abc\" # starting message"
   ]
  },
  {
   "cell_type": "code",
   "execution_count": 3,
   "metadata": {},
   "outputs": [
    {
     "data": {
      "text/plain": [
       "97"
      ]
     },
     "execution_count": 3,
     "metadata": {},
     "output_type": "execute_result"
    }
   ],
   "source": [
    "ord(\"a\") # ascii number "
   ]
  },
  {
   "cell_type": "code",
   "execution_count": 4,
   "metadata": {},
   "outputs": [
    {
     "data": {
      "text/plain": [
       "'01100001'"
      ]
     },
     "execution_count": 4,
     "metadata": {},
     "output_type": "execute_result"
    }
   ],
   "source": [
    "bin(ord(\"a\"))[2:].zfill(8) # 8-bit ascii number"
   ]
  },
  {
   "cell_type": "code",
   "execution_count": 5,
   "metadata": {},
   "outputs": [
    {
     "data": {
      "text/plain": [
       "['01100001', '01100010', '01100011']"
      ]
     },
     "execution_count": 5,
     "metadata": {},
     "output_type": "execute_result"
    }
   ],
   "source": [
    "message_bits = [bin(ord(i))[2:].zfill(8) for i in message] # iterating through each character \n",
    "message_bits"
   ]
  },
  {
   "cell_type": "code",
   "execution_count": 6,
   "metadata": {},
   "outputs": [
    {
     "data": {
      "text/plain": [
       "'011000010110001001100011'"
      ]
     },
     "execution_count": 6,
     "metadata": {},
     "output_type": "execute_result"
    }
   ],
   "source": [
    "message_bits_concatenate = ''.join(message_bits) # concatenating of the characters\n",
    "message_bits_concatenate"
   ]
  },
  {
   "cell_type": "code",
   "execution_count": 7,
   "metadata": {},
   "outputs": [
    {
     "data": {
      "text/plain": [
       "24"
      ]
     },
     "execution_count": 7,
     "metadata": {},
     "output_type": "execute_result"
    }
   ],
   "source": [
    "l = len(message_bits_concatenate) # the length of the message in bits so far\n",
    "l"
   ]
  },
  {
   "cell_type": "code",
   "execution_count": 8,
   "metadata": {},
   "outputs": [
    {
     "data": {
      "text/plain": [
       "'0110000101100010011000111'"
      ]
     },
     "execution_count": 8,
     "metadata": {},
     "output_type": "execute_result"
    }
   ],
   "source": [
    "message_bits_concatenate_one = message_bits_concatenate + '1' # add 1 to the message\n",
    "message_bits_concatenate_one"
   ]
  },
  {
   "cell_type": "markdown",
   "metadata": {},
   "source": [
    "<details>\n",
    "<summary><b>2.1 - Solving a Congruence Equation in Python<a class=\"anchor\" id=\"Sympy_cong\"></a> </b>(click to expand) </summary>\n",
    "    \n",
    "<p>\n",
    "  We will use the SymPy library in Python to solve a congruence equation. In SymPy, we can use <b>Diophantine</b> function to solve a <b>congruence</b> equation.\n",
    "    \n",
    "  A congruence equation of the form $$ax \\equiv c \\pmod b$$ \n",
    "    \n",
    "  can be written as a linear Diophantine equation in the form of $$ax + bm = c.$$\n",
    "    \n",
    "  Lastly, <a href=\"https://docs.sympy.org/latest/modules/solvers/diophantine.html\">SymPy's documentation</a> states that when we input the equation to any of the functions in Diophantine module, it needs to be in the form $$ax + bm - c = 0.$$\n",
    "    \n",
    "  In this particular example, $$a=1$$ $$x=1+l+k$$ $$b = 1024$$ $$c = 896$$ and we are not interested in $$m$$\n",
    "</p>\n",
    "</details>"
   ]
  },
  {
   "cell_type": "code",
   "execution_count": 9,
   "metadata": {},
   "outputs": [],
   "source": [
    "k, m = s.symbols(\"k, m\", integer = True)"
   ]
  },
  {
   "cell_type": "code",
   "execution_count": 10,
   "metadata": {},
   "outputs": [],
   "source": [
    "x = 1 + l + k\n",
    "b = 1024\n",
    "c = 896"
   ]
  },
  {
   "cell_type": "code",
   "execution_count": 11,
   "metadata": {},
   "outputs": [
    {
     "data": {
      "text/plain": [
       "{(1024*t_0 + 871, -t_0)}"
      ]
     },
     "execution_count": 11,
     "metadata": {},
     "output_type": "execute_result"
    }
   ],
   "source": [
    "diophantine(x + b*m - c) # returns a set; not iterable"
   ]
  },
  {
   "cell_type": "code",
   "execution_count": 12,
   "metadata": {},
   "outputs": [
    {
     "data": {
      "text/plain": [
       "[(1024*t_0 + 871, -t_0)]"
      ]
     },
     "execution_count": 12,
     "metadata": {},
     "output_type": "execute_result"
    }
   ],
   "source": [
    "list(diophantine(x + b*m - c)) # a list make it iterable"
   ]
  },
  {
   "cell_type": "code",
   "execution_count": 13,
   "metadata": {},
   "outputs": [
    {
     "data": {
      "text/latex": [
       "$\\displaystyle 1024 t_{0} + 871$"
      ],
      "text/plain": [
       "1024*t_0 + 871"
      ]
     },
     "execution_count": 13,
     "metadata": {},
     "output_type": "execute_result"
    }
   ],
   "source": [
    "list(diophantine(x + b*m - c))[0][0] # extracting the first element, which is x (we are not interested in m)"
   ]
  },
  {
   "cell_type": "code",
   "execution_count": 14,
   "metadata": {},
   "outputs": [
    {
     "data": {
      "text/plain": [
       "(871, 1024*t_0)"
      ]
     },
     "execution_count": 14,
     "metadata": {},
     "output_type": "execute_result"
    }
   ],
   "source": [
    "sol = list(diophantine(x + b*m - c))[0][0]\n",
    "sol.args"
   ]
  },
  {
   "cell_type": "code",
   "execution_count": 15,
   "metadata": {},
   "outputs": [
    {
     "data": {
      "text/latex": [
       "$\\displaystyle 871$"
      ],
      "text/plain": [
       "871"
      ]
     },
     "execution_count": 15,
     "metadata": {},
     "output_type": "execute_result"
    }
   ],
   "source": [
    "sol.args[0] % 1024 # or b for 1024"
   ]
  },
  {
   "cell_type": "code",
   "execution_count": 16,
   "metadata": {},
   "outputs": [
    {
     "data": {
      "text/plain": [
       "sympy.core.numbers.Integer"
      ]
     },
     "execution_count": 16,
     "metadata": {},
     "output_type": "execute_result"
    }
   ],
   "source": [
    "type(sol.args[0] % 1024)"
   ]
  },
  {
   "cell_type": "code",
   "execution_count": 17,
   "metadata": {},
   "outputs": [
    {
     "data": {
      "text/plain": [
       "871"
      ]
     },
     "execution_count": 17,
     "metadata": {},
     "output_type": "execute_result"
    }
   ],
   "source": [
    "int(sol.args[0] % 1024)"
   ]
  },
  {
   "cell_type": "code",
   "execution_count": 18,
   "metadata": {},
   "outputs": [
    {
     "data": {
      "text/plain": [
       "int"
      ]
     },
     "execution_count": 18,
     "metadata": {},
     "output_type": "execute_result"
    }
   ],
   "source": [
    "type(int(sol.args[0] % 1024))"
   ]
  },
  {
   "cell_type": "code",
   "execution_count": 19,
   "metadata": {},
   "outputs": [
    {
     "data": {
      "text/plain": [
       "871"
      ]
     },
     "execution_count": 19,
     "metadata": {},
     "output_type": "execute_result"
    }
   ],
   "source": [
    "zero_pad = int(sol.args[0] % 1024)\n",
    "zero_pad"
   ]
  },
  {
   "cell_type": "code",
   "execution_count": 20,
   "metadata": {},
   "outputs": [
    {
     "data": {
      "text/plain": [
       "'00000000000000000000000000000000000000000000000000000000000000000000000000000000000000000000000000000000000000000000000000011000'"
      ]
     },
     "execution_count": 20,
     "metadata": {},
     "output_type": "execute_result"
    }
   ],
   "source": [
    "L_binary = bin(l)[2:] # 128-bit representation of l\n",
    "L_binary.zfill(128)"
   ]
  },
  {
   "cell_type": "code",
   "execution_count": 21,
   "metadata": {},
   "outputs": [
    {
     "data": {
      "text/plain": [
       "'00'"
      ]
     },
     "execution_count": 21,
     "metadata": {},
     "output_type": "execute_result"
    }
   ],
   "source": [
    "'0' * 2 # multiplying a string with an integer "
   ]
  },
  {
   "cell_type": "code",
   "execution_count": 22,
   "metadata": {},
   "outputs": [
    {
     "data": {
      "text/plain": [
       "'0110000101100010011000111000000000000000000000000000000000000000000000000000000000000000000000000000000000000000000000000000000000000000000000000000000000000000000000000000000000000000000000000000000000000000000000000000000000000000000000000000000000000000000000000000000000000000000000000000000000000000000000000000000000000000000000000000000000000000000000000000000000000000000000000000000000000000000000000000000000000000000000000000000000000000000000000000000000000000000000000000000000000000000000000000000000000000000000000000000000000000000000000000000000000000000000000000000000000000000000000000000000000000000000000000000000000000000000000000000000000000000000000000000000000000000000000000000000000000000000000000000000000000000000000000000000000000000000000000000000000000000000000000000000000000000000000000000000000000000000000000000000000000000000000000000000000000000000000000000000000000000000000000000000000000000000000000000000000000000000000000000000000000000000000000000000000000000000000000000000011000'"
      ]
     },
     "execution_count": 22,
     "metadata": {},
     "output_type": "execute_result"
    }
   ],
   "source": [
    "message_padded = message_bits_concatenate_one + '0' * zero_pad + L_binary.zfill(128)\n",
    "message_padded"
   ]
  },
  {
   "cell_type": "code",
   "execution_count": 23,
   "metadata": {},
   "outputs": [
    {
     "data": {
      "text/plain": [
       "1024"
      ]
     },
     "execution_count": 23,
     "metadata": {},
     "output_type": "execute_result"
    }
   ],
   "source": [
    "len(message_padded)"
   ]
  },
  {
   "cell_type": "markdown",
   "metadata": {},
   "source": [
    "### 3 - Initial Vector and Constants - Prime Numbers  <a class=\"anchor\" id=\"init\"></a>"
   ]
  },
  {
   "cell_type": "markdown",
   "metadata": {},
   "source": [
    "<details>\n",
    "  <summary><b>Where do Prime Numbers appear? </b>(click to expand) </summary>\n",
    "  \n",
    "  <img src=\"SHA512-FirstEightPrimes.jpg\" width=800 height=800>\n",
    "    \n",
    "  <img src=\"SHA512-FirstEightyPrimes.jpg\" width=800 height=800>\n",
    "    \n",
    "  <img src=\"SHA512-FirstEightyPrimes(2).jpg\" width=800 height=800>\n",
    "</details>"
   ]
  },
  {
   "cell_type": "code",
   "execution_count": 24,
   "metadata": {},
   "outputs": [
    {
     "name": "stdout",
     "output_type": "stream",
     "text": [
      "Mpmath settings:\n",
      "  mp.prec = 53                [default: 53]\n",
      "  mp.dps = 15                 [default: 15]\n",
      "  mp.trap_complex = False     [default: False]\n"
     ]
    }
   ],
   "source": [
    "# from the mpmath library\n",
    "print(mp) # precision"
   ]
  },
  {
   "cell_type": "code",
   "execution_count": 25,
   "metadata": {},
   "outputs": [
    {
     "data": {
      "text/plain": [
       "mpf('1.4142135623730951')"
      ]
     },
     "execution_count": 25,
     "metadata": {},
     "output_type": "execute_result"
    }
   ],
   "source": [
    "sqrt(2)"
   ]
  },
  {
   "cell_type": "code",
   "execution_count": 26,
   "metadata": {},
   "outputs": [],
   "source": [
    "mp.dps = 50"
   ]
  },
  {
   "cell_type": "code",
   "execution_count": 27,
   "metadata": {},
   "outputs": [
    {
     "data": {
      "text/plain": [
       "mpf('1.4142135623730950488016887242096980785696718753769468')"
      ]
     },
     "execution_count": 27,
     "metadata": {},
     "output_type": "execute_result"
    }
   ],
   "source": [
    "sqrt(2)"
   ]
  },
  {
   "cell_type": "code",
   "execution_count": 28,
   "metadata": {},
   "outputs": [
    {
     "data": {
      "text/plain": [
       "mpf('0.41421356237309504880168872420969807856967187537694683')"
      ]
     },
     "execution_count": 28,
     "metadata": {},
     "output_type": "execute_result"
    }
   ],
   "source": [
    "frac(sqrt(2))"
   ]
  },
  {
   "cell_type": "code",
   "execution_count": 29,
   "metadata": {},
   "outputs": [
    {
     "data": {
      "text/plain": [
       "18446744073709551616"
      ]
     },
     "execution_count": 29,
     "metadata": {},
     "output_type": "execute_result"
    }
   ],
   "source": [
    "pow(2, 64)"
   ]
  },
  {
   "cell_type": "code",
   "execution_count": 30,
   "metadata": {},
   "outputs": [
    {
     "data": {
      "text/plain": [
       "mpf('7640891576956012808.6991436125050167377665525791856942')"
      ]
     },
     "execution_count": 30,
     "metadata": {},
     "output_type": "execute_result"
    }
   ],
   "source": [
    "fmul(frac(sqrt(2)), pow(2, 64))"
   ]
  },
  {
   "cell_type": "code",
   "execution_count": 31,
   "metadata": {},
   "outputs": [
    {
     "data": {
      "text/plain": [
       "7640891576956012808"
      ]
     },
     "execution_count": 31,
     "metadata": {},
     "output_type": "execute_result"
    }
   ],
   "source": [
    "int(fmul(frac(sqrt(2)), pow(2, 64)))"
   ]
  },
  {
   "cell_type": "code",
   "execution_count": 32,
   "metadata": {},
   "outputs": [
    {
     "data": {
      "text/plain": [
       "'0x6a09e667f3bcc908'"
      ]
     },
     "execution_count": 32,
     "metadata": {},
     "output_type": "execute_result"
    }
   ],
   "source": [
    "hex(int(fmul(frac(sqrt(2)), pow(2, 64))))"
   ]
  },
  {
   "cell_type": "code",
   "execution_count": 33,
   "metadata": {},
   "outputs": [
    {
     "data": {
      "text/plain": [
       "'6a09e667f3bcc908'"
      ]
     },
     "execution_count": 33,
     "metadata": {},
     "output_type": "execute_result"
    }
   ],
   "source": [
    "hex(int(fmul(frac(sqrt(2)), pow(2, 64))))[2:]"
   ]
  },
  {
   "cell_type": "code",
   "execution_count": 34,
   "metadata": {},
   "outputs": [
    {
     "data": {
      "text/plain": [
       "2"
      ]
     },
     "execution_count": 34,
     "metadata": {},
     "output_type": "execute_result"
    }
   ],
   "source": [
    "s.sieve[1] # the first prime"
   ]
  },
  {
   "cell_type": "code",
   "execution_count": 35,
   "metadata": {},
   "outputs": [
    {
     "data": {
      "text/plain": [
       "array('l', [2, 3, 5, 7, 11, 13, 17, 19])"
      ]
     },
     "execution_count": 35,
     "metadata": {},
     "output_type": "execute_result"
    }
   ],
   "source": [
    "first_eight_primes = s.sieve[1:9] # the first 8 primes\n",
    "first_eight_primes"
   ]
  },
  {
   "cell_type": "code",
   "execution_count": 36,
   "metadata": {},
   "outputs": [],
   "source": [
    "def sqrt_64bits_hex(n): # the 64-bit of the fractional part of the square root\n",
    "    return (hex(int(fmul(frac(sqrt(n)), pow(2, 64))))[2:])"
   ]
  },
  {
   "cell_type": "code",
   "execution_count": 37,
   "metadata": {},
   "outputs": [
    {
     "data": {
      "text/plain": [
       "'bb67ae8584caa73b'"
      ]
     },
     "execution_count": 37,
     "metadata": {},
     "output_type": "execute_result"
    }
   ],
   "source": [
    "sqrt_64bits_hex(3)"
   ]
  },
  {
   "cell_type": "code",
   "execution_count": 38,
   "metadata": {},
   "outputs": [
    {
     "data": {
      "text/plain": [
       "['6a09e667f3bcc908',\n",
       " 'bb67ae8584caa73b',\n",
       " '3c6ef372fe94f82b',\n",
       " 'a54ff53a5f1d36f1',\n",
       " '510e527fade682d1',\n",
       " '9b05688c2b3e6c1f',\n",
       " '1f83d9abfb41bd6b',\n",
       " '5be0cd19137e2179']"
      ]
     },
     "execution_count": 38,
     "metadata": {},
     "output_type": "execute_result"
    }
   ],
   "source": [
    "bin_fraction_8primes = [sqrt_64bits_hex(i) for i in first_eight_primes]\n",
    "bin_fraction_8primes"
   ]
  },
  {
   "cell_type": "code",
   "execution_count": 39,
   "metadata": {},
   "outputs": [
    {
     "data": {
      "text/plain": [
       "array('l', [2, 3, 5, 7, 11, 13, 17, 19, 23, 29, 31, 37, 41, 43, 47, 53, 59, 61, 67, 71, 73, 79, 83, 89, 97, 101, 103, 107, 109, 113, 127, 131, 137, 139, 149, 151, 157, 163, 167, 173, 179, 181, 191, 193, 197, 199, 211, 223, 227, 229, 233, 239, 241, 251, 257, 263, 269, 271, 277, 281, 283, 293, 307, 311, 313, 317, 331, 337, 347, 349, 353, 359, 367, 373, 379, 383, 389, 397, 401, 409])"
      ]
     },
     "execution_count": 39,
     "metadata": {},
     "output_type": "execute_result"
    }
   ],
   "source": [
    "first_eighty_primes = s.sieve[1:81] \n",
    "first_eighty_primes"
   ]
  },
  {
   "cell_type": "code",
   "execution_count": 40,
   "metadata": {},
   "outputs": [],
   "source": [
    "def cube_roots_64bits_hex(n): # the 64-bit of the fractional part of the cube root\n",
    "    return (hex(int(fmul(frac(cbrt(n)), pow(2, 64))))[2:])"
   ]
  },
  {
   "cell_type": "code",
   "execution_count": 41,
   "metadata": {},
   "outputs": [
    {
     "data": {
      "text/plain": [
       "'428a2f98d728ae22'"
      ]
     },
     "execution_count": 41,
     "metadata": {},
     "output_type": "execute_result"
    }
   ],
   "source": [
    "cube_roots_64bits_hex(2)"
   ]
  },
  {
   "cell_type": "code",
   "execution_count": 42,
   "metadata": {},
   "outputs": [],
   "source": [
    "bin_fraction_80primes = [cube_roots_64bits_hex(i) for i in first_eighty_primes]"
   ]
  },
  {
   "cell_type": "markdown",
   "metadata": {},
   "source": [
    "### 4 -  SHA512 Logical Functions <a class=\"anchor\" id=\"log_fun\"></a>"
   ]
  },
  {
   "cell_type": "markdown",
   "metadata": {},
   "source": [
    "<details>\n",
    "<summary><b>4.1 - Logical Functions, Building Blocks<a class=\"anchor\" id=\"BulBlock\"></a> </b>(click to expand) </summary>\n",
    "    \n",
    "  <img src=\"SHA512-BuildingBlockLogicalFunctions.jpg\" width=800 height=800>\n",
    "</details>"
   ]
  },
  {
   "cell_type": "markdown",
   "metadata": {},
   "source": [
    "<details>\n",
    "<summary><b>4.1.1 - Bitwise Complement<a class=\"anchor\" id=\"compl.\"></a> </b>(click to expand) </summary>\n",
    "    \n",
    "  <img src=\"SHA512-BitwiseComplement.jpg\" width=800 height=800>\n",
    "</details>"
   ]
  },
  {
   "cell_type": "code",
   "execution_count": 43,
   "metadata": {},
   "outputs": [],
   "source": [
    "def bit_wise_complement(x):\n",
    "    return x.translate(str.maketrans(\"01\",\"10\"))\n",
    "\n",
    "# The translate() method returns a copy of the string in which all \n",
    "# characters have been translated using table (constructed with the maketrans() function in the string module)\n",
    "\n",
    "# string method maketrans() returns a translation table that maps each character in the \n",
    "# intabstring into the character at the same position in the outtab string. \n",
    "# Then this table is passed to the translate() function.\n",
    "\n",
    "# see \n",
    "# https://docs.python.org/3/library/stdtypes.html#str.maketrans\n",
    "# and \n",
    "# https://docs.python.org/3/library/stdtypes.html#str.translate\n",
    "# for more information"
   ]
  },
  {
   "cell_type": "code",
   "execution_count": 44,
   "metadata": {},
   "outputs": [],
   "source": [
    "string = \"0110000\""
   ]
  },
  {
   "cell_type": "code",
   "execution_count": 45,
   "metadata": {},
   "outputs": [
    {
     "data": {
      "text/plain": [
       "'1001111'"
      ]
     },
     "execution_count": 45,
     "metadata": {},
     "output_type": "execute_result"
    }
   ],
   "source": [
    "bit_wise_complement(string)"
   ]
  },
  {
   "cell_type": "markdown",
   "metadata": {},
   "source": [
    "<details>\n",
    "<summary><b>4.1.2 - AND<a class=\"anchor\" id=\"AND\"></a> </b>(click to expand) </summary>\n",
    "    \n",
    "  <img src=\"SHA512-AND.jpg\" width=800 height=800>\n",
    "</details>"
   ]
  },
  {
   "cell_type": "code",
   "execution_count": 46,
   "metadata": {},
   "outputs": [
    {
     "data": {
      "text/plain": [
       "2"
      ]
     },
     "execution_count": 46,
     "metadata": {},
     "output_type": "execute_result"
    }
   ],
   "source": [
    "10 & 3"
   ]
  },
  {
   "cell_type": "code",
   "execution_count": 47,
   "metadata": {},
   "outputs": [
    {
     "data": {
      "text/plain": [
       "'1010'"
      ]
     },
     "execution_count": 47,
     "metadata": {},
     "output_type": "execute_result"
    }
   ],
   "source": [
    "bin(10)[2:]"
   ]
  },
  {
   "cell_type": "code",
   "execution_count": 48,
   "metadata": {},
   "outputs": [
    {
     "data": {
      "text/plain": [
       "'0011'"
      ]
     },
     "execution_count": 48,
     "metadata": {},
     "output_type": "execute_result"
    }
   ],
   "source": [
    "bin(3)[2:].zfill(4)"
   ]
  },
  {
   "cell_type": "code",
   "execution_count": 49,
   "metadata": {},
   "outputs": [
    {
     "data": {
      "text/plain": [
       "'0010'"
      ]
     },
     "execution_count": 49,
     "metadata": {},
     "output_type": "execute_result"
    }
   ],
   "source": [
    "bin(2)[2:].zfill(4)"
   ]
  },
  {
   "cell_type": "code",
   "execution_count": 50,
   "metadata": {},
   "outputs": [
    {
     "data": {
      "text/plain": [
       "2"
      ]
     },
     "execution_count": 50,
     "metadata": {},
     "output_type": "execute_result"
    }
   ],
   "source": [
    "int('0010', 2)"
   ]
  },
  {
   "cell_type": "markdown",
   "metadata": {},
   "source": [
    "<details>\n",
    "<summary><b>4.1.3 - Bitwise XOR<a class=\"anchor\" id=\"XOR\"></a> </b>(click to expand) </summary>\n",
    "    \n",
    "  <img src=\"SHA512-XOR.jpg\" width=800 height=800>\n",
    "</details>"
   ]
  },
  {
   "cell_type": "code",
   "execution_count": 51,
   "metadata": {},
   "outputs": [
    {
     "data": {
      "text/plain": [
       "8"
      ]
     },
     "execution_count": 51,
     "metadata": {},
     "output_type": "execute_result"
    }
   ],
   "source": [
    "2 ** 3"
   ]
  },
  {
   "cell_type": "code",
   "execution_count": 52,
   "metadata": {},
   "outputs": [
    {
     "data": {
      "text/plain": [
       "1"
      ]
     },
     "execution_count": 52,
     "metadata": {},
     "output_type": "execute_result"
    }
   ],
   "source": [
    "2 ^ 3"
   ]
  },
  {
   "cell_type": "code",
   "execution_count": 53,
   "metadata": {},
   "outputs": [
    {
     "data": {
      "text/plain": [
       "'10'"
      ]
     },
     "execution_count": 53,
     "metadata": {},
     "output_type": "execute_result"
    }
   ],
   "source": [
    "bin(2)[2:]"
   ]
  },
  {
   "cell_type": "code",
   "execution_count": 54,
   "metadata": {},
   "outputs": [
    {
     "data": {
      "text/plain": [
       "'11'"
      ]
     },
     "execution_count": 54,
     "metadata": {},
     "output_type": "execute_result"
    }
   ],
   "source": [
    "bin(3)[2:]"
   ]
  },
  {
   "cell_type": "code",
   "execution_count": 55,
   "metadata": {},
   "outputs": [
    {
     "data": {
      "text/plain": [
       "'01'"
      ]
     },
     "execution_count": 55,
     "metadata": {},
     "output_type": "execute_result"
    }
   ],
   "source": [
    "bin(1)[2:].zfill(2)"
   ]
  },
  {
   "cell_type": "markdown",
   "metadata": {},
   "source": [
    "<details>\n",
    "<summary><b>4.1.4 - Right Shift<a class=\"anchor\" id=\"right_shift\"></a> </b>(click to expand) </summary>\n",
    "    \n",
    "  <img src=\"SHA512-RightShift.jpg\" width=800 height=800>\n",
    "</details>"
   ]
  },
  {
   "cell_type": "code",
   "execution_count": 56,
   "metadata": {},
   "outputs": [
    {
     "data": {
      "text/plain": [
       "6"
      ]
     },
     "execution_count": 56,
     "metadata": {},
     "output_type": "execute_result"
    }
   ],
   "source": [
    "25 >> 2"
   ]
  },
  {
   "cell_type": "code",
   "execution_count": 57,
   "metadata": {},
   "outputs": [
    {
     "data": {
      "text/plain": [
       "'11001'"
      ]
     },
     "execution_count": 57,
     "metadata": {},
     "output_type": "execute_result"
    }
   ],
   "source": [
    "bin(25)[2:]"
   ]
  },
  {
   "cell_type": "code",
   "execution_count": 58,
   "metadata": {},
   "outputs": [
    {
     "data": {
      "text/plain": [
       "'110'"
      ]
     },
     "execution_count": 58,
     "metadata": {},
     "output_type": "execute_result"
    }
   ],
   "source": [
    "bin(25 >> 2)[2:]"
   ]
  },
  {
   "cell_type": "markdown",
   "metadata": {},
   "source": [
    "<details>\n",
    "<summary><b>4.1.5 - Right Rotation<a class=\"anchor\" id=\"right_rot\"></a> </b>(click to expand) </summary>\n",
    "    \n",
    "  <img src=\"SHA512-RightRotation.jpg\" width=800 height=800>\n",
    "</details>"
   ]
  },
  {
   "cell_type": "code",
   "execution_count": 59,
   "metadata": {},
   "outputs": [],
   "source": [
    "def right_rotation(string, n):\n",
    "    n = n % len(string)\n",
    "    return string[-n:] + string[:-n]"
   ]
  },
  {
   "cell_type": "code",
   "execution_count": 60,
   "metadata": {},
   "outputs": [
    {
     "data": {
      "text/plain": [
       "'0110000'"
      ]
     },
     "execution_count": 60,
     "metadata": {},
     "output_type": "execute_result"
    }
   ],
   "source": [
    "string"
   ]
  },
  {
   "cell_type": "code",
   "execution_count": 61,
   "metadata": {},
   "outputs": [
    {
     "data": {
      "text/plain": [
       "'0001100'"
      ]
     },
     "execution_count": 61,
     "metadata": {},
     "output_type": "execute_result"
    }
   ],
   "source": [
    "right_rotation(string, 2)"
   ]
  },
  {
   "cell_type": "code",
   "execution_count": 62,
   "metadata": {},
   "outputs": [
    {
     "data": {
      "text/plain": [
       "'1000001'"
      ]
     },
     "execution_count": 62,
     "metadata": {},
     "output_type": "execute_result"
    }
   ],
   "source": [
    "right_rotation(string, 5)"
   ]
  },
  {
   "cell_type": "code",
   "execution_count": 63,
   "metadata": {},
   "outputs": [
    {
     "data": {
      "text/plain": [
       "7"
      ]
     },
     "execution_count": 63,
     "metadata": {},
     "output_type": "execute_result"
    }
   ],
   "source": [
    "len(string)"
   ]
  },
  {
   "cell_type": "code",
   "execution_count": 64,
   "metadata": {},
   "outputs": [
    {
     "data": {
      "text/plain": [
       "'0001100'"
      ]
     },
     "execution_count": 64,
     "metadata": {},
     "output_type": "execute_result"
    }
   ],
   "source": [
    "right_rotation(string, 9)"
   ]
  },
  {
   "cell_type": "markdown",
   "metadata": {},
   "source": [
    "<details>\n",
    "<summary><b>4.2 - Logical Functions, Main Functions<a class=\"anchor\" id=\"BulBlock\"></a> </b>(click to expand) </summary>\n",
    "    \n",
    "  <img src=\"SHA512-LogicalFunctions.jpg\" width=800 height=800>\n",
    "</details>"
   ]
  },
  {
   "cell_type": "markdown",
   "metadata": {},
   "source": [
    "<b>4.2.1 - Ch<a class=\"anchor\" id=\"Ch\"></a> </b>"
   ]
  },
  {
   "cell_type": "code",
   "execution_count": 65,
   "metadata": {},
   "outputs": [],
   "source": [
    "def ch(x, y, z):\n",
    "    x = x.zfill(64)\n",
    "    \n",
    "    s1 = int(x, 2)\n",
    "    s2 = int(y, 2)\n",
    "    s3 = int(z, 2)\n",
    "    \n",
    "    s12 = s1 & s2\n",
    "    \n",
    "    s13 = int(bit_wise_complement(x), 2) & s3\n",
    "    \n",
    "    string = bin(s12 ^ s13)[2:]\n",
    "    \n",
    "    return (string.zfill(64))"
   ]
  },
  {
   "cell_type": "code",
   "execution_count": 66,
   "metadata": {},
   "outputs": [
    {
     "data": {
      "text/plain": [
       "'0000000000000000000000000000000000000000000000000000000000000000'"
      ]
     },
     "execution_count": 66,
     "metadata": {},
     "output_type": "execute_result"
    }
   ],
   "source": [
    "ch(\"1\", \"0\", \"0\")"
   ]
  },
  {
   "cell_type": "code",
   "execution_count": 67,
   "metadata": {},
   "outputs": [
    {
     "data": {
      "text/plain": [
       "'0000000000000000000000000000000000000000000000000000000000000001'"
      ]
     },
     "execution_count": 67,
     "metadata": {},
     "output_type": "execute_result"
    }
   ],
   "source": [
    "ch(\"1\", \"1\", \"0\")"
   ]
  },
  {
   "cell_type": "markdown",
   "metadata": {},
   "source": [
    "<b>4.2.2 - Maj<a class=\"anchor\" id=\"Maj\"></a> </b>"
   ]
  },
  {
   "cell_type": "code",
   "execution_count": 68,
   "metadata": {},
   "outputs": [],
   "source": [
    "def maj(x, y, z):\n",
    "    s1 = int(x, 2)\n",
    "    s2 = int(y, 2)\n",
    "    s3 = int(z, 2)\n",
    "    \n",
    "    s12 = s1 & s2\n",
    "    s13 = s1 & s3\n",
    "    s23 = s2 & s3\n",
    "    \n",
    "    string = bin(s12 ^ s13 ^ s23)[2:]\n",
    "    \n",
    "    return (string.zfill(64))"
   ]
  },
  {
   "cell_type": "code",
   "execution_count": 69,
   "metadata": {},
   "outputs": [
    {
     "data": {
      "text/plain": [
       "'0000000000000000000000000000000000000000000000000000000000000000'"
      ]
     },
     "execution_count": 69,
     "metadata": {},
     "output_type": "execute_result"
    }
   ],
   "source": [
    "maj(\"1\", \"0\", \"0\")"
   ]
  },
  {
   "cell_type": "code",
   "execution_count": 70,
   "metadata": {},
   "outputs": [
    {
     "data": {
      "text/plain": [
       "'0000000000000000000000000000000000000000000000000000000000000001'"
      ]
     },
     "execution_count": 70,
     "metadata": {},
     "output_type": "execute_result"
    }
   ],
   "source": [
    "maj(\"1\", \"1\", \"0\")"
   ]
  },
  {
   "cell_type": "markdown",
   "metadata": {},
   "source": [
    "<b>4.2.3 - $\\Sigma_0$</b> <a class=\"anchor\" id=\"Sigma_0\"></a> "
   ]
  },
  {
   "cell_type": "code",
   "execution_count": 71,
   "metadata": {},
   "outputs": [],
   "source": [
    "def Sigma_0(x):\n",
    "    x = x.zfill(64)\n",
    "    \n",
    "    s1 = int(right_rotation(x, 28), 2)\n",
    "    s2 = int(right_rotation(x, 34), 2)\n",
    "    s3 = int(right_rotation(x, 39), 2)\n",
    "    \n",
    "    string = bin(s1 ^ s2 ^ s3)[2:]\n",
    "    \n",
    "    return (string.zfill(64))"
   ]
  },
  {
   "cell_type": "code",
   "execution_count": 72,
   "metadata": {},
   "outputs": [
    {
     "data": {
      "text/plain": [
       "'0000000000000000000000000001000001000010000000000000000000000000'"
      ]
     },
     "execution_count": 72,
     "metadata": {},
     "output_type": "execute_result"
    }
   ],
   "source": [
    "Sigma_0(\"1\")"
   ]
  },
  {
   "cell_type": "code",
   "execution_count": 73,
   "metadata": {},
   "outputs": [
    {
     "data": {
      "text/plain": [
       "28"
      ]
     },
     "execution_count": 73,
     "metadata": {},
     "output_type": "execute_result"
    }
   ],
   "source": [
    "len(\"0000000000000000000000000001\")"
   ]
  },
  {
   "cell_type": "markdown",
   "metadata": {},
   "source": [
    "<b>4.2.4 - $\\Sigma_1$</b> <a class=\"anchor\" id=\"Sigma_1\"></a> "
   ]
  },
  {
   "cell_type": "code",
   "execution_count": 74,
   "metadata": {},
   "outputs": [],
   "source": [
    "def Sigma_1(x):\n",
    "    x = x.zfill(64)\n",
    "    \n",
    "    s1 = int(right_rotation(x, 14), 2)\n",
    "    s2 = int(right_rotation(x, 18), 2)\n",
    "    s3 = int(right_rotation(x, 41), 2)\n",
    "    \n",
    "    string = bin(s1 ^ s2 ^ s3)[2:]\n",
    "    \n",
    "    return (string.zfill(64))"
   ]
  },
  {
   "cell_type": "code",
   "execution_count": 75,
   "metadata": {},
   "outputs": [
    {
     "data": {
      "text/plain": [
       "'0000000000000100010000000000000000000000100000000000000000000000'"
      ]
     },
     "execution_count": 75,
     "metadata": {},
     "output_type": "execute_result"
    }
   ],
   "source": [
    "Sigma_1(\"1\")"
   ]
  },
  {
   "cell_type": "code",
   "execution_count": 76,
   "metadata": {},
   "outputs": [
    {
     "data": {
      "text/plain": [
       "14"
      ]
     },
     "execution_count": 76,
     "metadata": {},
     "output_type": "execute_result"
    }
   ],
   "source": [
    "len(\"00000000000001\")"
   ]
  },
  {
   "cell_type": "markdown",
   "metadata": {},
   "source": [
    "<b>4.2.5 - $\\sigma_0$</b> <a class=\"anchor\" id=\"sigma_1\"></a> "
   ]
  },
  {
   "cell_type": "code",
   "execution_count": 77,
   "metadata": {},
   "outputs": [],
   "source": [
    "def sigma_0(x):\n",
    "    x = x.zfill(64)\n",
    "    \n",
    "    s1 = int(right_rotation(x, 1), 2)\n",
    "    s2 = int(right_rotation(x, 8), 2)\n",
    "    s3 = int(x, 2) >> 7\n",
    "    \n",
    "    string = bin(s1 ^ s2 ^ s3)[2:]\n",
    "    \n",
    "    return (string.zfill(64))"
   ]
  },
  {
   "cell_type": "code",
   "execution_count": 78,
   "metadata": {},
   "outputs": [
    {
     "data": {
      "text/plain": [
       "'1000000100000000000000000000000000000000000000000000000000000000'"
      ]
     },
     "execution_count": 78,
     "metadata": {},
     "output_type": "execute_result"
    }
   ],
   "source": [
    "sigma_0(\"1\")"
   ]
  },
  {
   "cell_type": "markdown",
   "metadata": {},
   "source": [
    "<b>4.2.6 - $\\sigma_1$</b> <a class=\"anchor\" id=\"sigma_1\"></a> "
   ]
  },
  {
   "cell_type": "code",
   "execution_count": 79,
   "metadata": {},
   "outputs": [],
   "source": [
    "def sigma_1(x):\n",
    "    x = x.zfill(64)\n",
    "    \n",
    "    s1 = int(right_rotation(x, 19), 2)\n",
    "    s2 = int(right_rotation(x, 61), 2)\n",
    "    s3 = int(x, 2) >> 6\n",
    "    \n",
    "    string = bin(s1 ^ s2 ^ s3)[2:]\n",
    "    \n",
    "    return (string.zfill(64))"
   ]
  },
  {
   "cell_type": "code",
   "execution_count": 80,
   "metadata": {},
   "outputs": [
    {
     "data": {
      "text/plain": [
       "'0000000000000000001000000000000000000000000000000000000000001000'"
      ]
     },
     "execution_count": 80,
     "metadata": {},
     "output_type": "execute_result"
    }
   ],
   "source": [
    "sigma_1(\"1\")"
   ]
  },
  {
   "cell_type": "markdown",
   "metadata": {},
   "source": [
    "<details>\n",
    "<summary><b>5 - Main Algorithm<a class=\"anchor\" id=\"main_algo\"></a> </b>(click to expand) </summary>\n",
    "    \n",
    "  <img src=\"SHA512-MainAlgorithm.jpg\" width=800 height=800>\n",
    "</details>"
   ]
  },
  {
   "cell_type": "markdown",
   "metadata": {},
   "source": [
    "<details>\n",
    "<summary><b>5.1 - Message Schedule<a class=\"anchor\" id=\"msg_sch\"></a> </b>(click to expand) </summary>\n",
    "    \n",
    "  <img src=\"SHA512-MessageSchedule.jpg\" width=800 height=800>\n",
    "</details>"
   ]
  },
  {
   "cell_type": "code",
   "execution_count": 81,
   "metadata": {},
   "outputs": [
    {
     "data": {
      "text/plain": [
       "'0110000101100010011000111000000000000000000000000000000000000000000000000000000000000000000000000000000000000000000000000000000000000000000000000000000000000000000000000000000000000000000000000000000000000000000000000000000000000000000000000000000000000000000000000000000000000000000000000000000000000000000000000000000000000000000000000000000000000000000000000000000000000000000000000000000000000000000000000000000000000000000000000000000000000000000000000000000000000000000000000000000000000000000000000000000000000000000000000000000000000000000000000000000000000000000000000000000000000000000000000000000000000000000000000000000000000000000000000000000000000000000000000000000000000000000000000000000000000000000000000000000000000000000000000000000000000000000000000000000000000000000000000000000000000000000000000000000000000000000000000000000000000000000000000000000000000000000000000000000000000000000000000000000000000000000000000000000000000000000000000000000000000000000000000000000000000000000000000000000000011000'"
      ]
     },
     "execution_count": 81,
     "metadata": {},
     "output_type": "execute_result"
    }
   ],
   "source": [
    "message_padded"
   ]
  },
  {
   "cell_type": "code",
   "execution_count": 82,
   "metadata": {},
   "outputs": [
    {
     "data": {
      "text/plain": [
       "['0110000101100010011000111000000000000000000000000000000000000000',\n",
       " '0000000000000000000000000000000000000000000000000000000000000000',\n",
       " '0000000000000000000000000000000000000000000000000000000000000000',\n",
       " '0000000000000000000000000000000000000000000000000000000000000000',\n",
       " '0000000000000000000000000000000000000000000000000000000000000000',\n",
       " '0000000000000000000000000000000000000000000000000000000000000000',\n",
       " '0000000000000000000000000000000000000000000000000000000000000000',\n",
       " '0000000000000000000000000000000000000000000000000000000000000000',\n",
       " '0000000000000000000000000000000000000000000000000000000000000000',\n",
       " '0000000000000000000000000000000000000000000000000000000000000000',\n",
       " '0000000000000000000000000000000000000000000000000000000000000000',\n",
       " '0000000000000000000000000000000000000000000000000000000000000000',\n",
       " '0000000000000000000000000000000000000000000000000000000000000000',\n",
       " '0000000000000000000000000000000000000000000000000000000000000000',\n",
       " '0000000000000000000000000000000000000000000000000000000000000000',\n",
       " '0000000000000000000000000000000000000000000000000000000000011000']"
      ]
     },
     "execution_count": 82,
     "metadata": {},
     "output_type": "execute_result"
    }
   ],
   "source": [
    "W = [message_padded[i:i+64] for i in range(0, len(message_padded), 64)]\n",
    "W"
   ]
  },
  {
   "cell_type": "code",
   "execution_count": 83,
   "metadata": {},
   "outputs": [
    {
     "data": {
      "text/plain": [
       "16"
      ]
     },
     "execution_count": 83,
     "metadata": {},
     "output_type": "execute_result"
    }
   ],
   "source": [
    "len(W)"
   ]
  },
  {
   "cell_type": "code",
   "execution_count": 84,
   "metadata": {},
   "outputs": [],
   "source": [
    "def next_W(W):\n",
    "    s1 = int(sigma_1(W[-2]), 2)\n",
    "    s2 = int(W[-7], 2)\n",
    "    s3 = int(sigma_0(W[-15]), 2)\n",
    "    s4 = int(W[-16], 2)\n",
    "    \n",
    "    string = bin((s1 + s2 + s3 + s4) % (pow(2, 64)))[2:].zfill(64)\n",
    "    return string"
   ]
  },
  {
   "cell_type": "code",
   "execution_count": 85,
   "metadata": {},
   "outputs": [],
   "source": [
    "for i in range(16, 80):\n",
    "    string = next_W(W)\n",
    "    W.append(string)"
   ]
  },
  {
   "cell_type": "code",
   "execution_count": 86,
   "metadata": {},
   "outputs": [
    {
     "data": {
      "text/plain": [
       "80"
      ]
     },
     "execution_count": 86,
     "metadata": {},
     "output_type": "execute_result"
    }
   ],
   "source": [
    "len(W)"
   ]
  },
  {
   "cell_type": "markdown",
   "metadata": {},
   "source": [
    "<details>\n",
    "<summary><b>5.2 - Initialize the eight Working Variables <a class=\"anchor\" id=\"init_working_variables\"></a> </b>(click to expand) </summary>\n",
    "    \n",
    "  <img src=\"SHA512-Initialize8WorkingVariables.jpg\" width=800 height=800>\n",
    "</details>"
   ]
  },
  {
   "cell_type": "code",
   "execution_count": 87,
   "metadata": {},
   "outputs": [
    {
     "data": {
      "text/plain": [
       "{'a': 0, 'b': 1, 'c': 2, 'd': 3, 'e': 4, 'f': 5, 'g': 6, 'h': 7}"
      ]
     },
     "execution_count": 87,
     "metadata": {},
     "output_type": "execute_result"
    }
   ],
   "source": [
    "mapping = {chr(i):i-97 for i in range(97, 97+8)}\n",
    "mapping"
   ]
  },
  {
   "cell_type": "code",
   "execution_count": 88,
   "metadata": {},
   "outputs": [
    {
     "data": {
      "text/plain": [
       "['6a09e667f3bcc908',\n",
       " 'bb67ae8584caa73b',\n",
       " '3c6ef372fe94f82b',\n",
       " 'a54ff53a5f1d36f1',\n",
       " '510e527fade682d1',\n",
       " '9b05688c2b3e6c1f',\n",
       " '1f83d9abfb41bd6b',\n",
       " '5be0cd19137e2179']"
      ]
     },
     "execution_count": 88,
     "metadata": {},
     "output_type": "execute_result"
    }
   ],
   "source": [
    "bin_fraction_8primes"
   ]
  },
  {
   "cell_type": "code",
   "execution_count": 89,
   "metadata": {},
   "outputs": [
    {
     "data": {
      "text/plain": [
       "['6a09e667f3bcc908',\n",
       " 'bb67ae8584caa73b',\n",
       " '3c6ef372fe94f82b',\n",
       " 'a54ff53a5f1d36f1',\n",
       " '510e527fade682d1',\n",
       " '9b05688c2b3e6c1f',\n",
       " '1f83d9abfb41bd6b',\n",
       " '5be0cd19137e2179']"
      ]
     },
     "execution_count": 89,
     "metadata": {},
     "output_type": "execute_result"
    }
   ],
   "source": [
    "register_strings = [bin_fraction_8primes[mapping[i]] for i in \"abcdefgh\"]\n",
    "register_strings"
   ]
  },
  {
   "cell_type": "markdown",
   "metadata": {},
   "source": [
    "<details>\n",
    "<summary><b>5.3 - Nested for-loop <a class=\"anchor\" id=\"nested_for_loop\"></a> </b>(click to expand) </summary>\n",
    "    \n",
    "  <img src=\"SHA512-NestedLoop.jpg\" width=800 height=800>\n",
    "</details>"
   ]
  },
  {
   "cell_type": "code",
   "execution_count": 90,
   "metadata": {},
   "outputs": [],
   "source": [
    "def T1(register_strings, K, W, index):\n",
    "    h = int(register_strings[mapping['h']], 16)\n",
    "    e = int(register_strings[mapping['e']], 16)\n",
    "    f = int(register_strings[mapping['f']], 16)\n",
    "    g = int(register_strings[mapping['g']], 16)\n",
    "    \n",
    "    k = int(K[index], 16)\n",
    "    w = int(W[index], 2)\n",
    "    \n",
    "    s2 = int(Sigma_1(bin(e)[2:]), 2)\n",
    "    s3 = int(ch(bin(e)[2:], bin(f)[2:], bin(g)[2:]), 2)\n",
    "    \n",
    "    t1 = (h + s2 + s3 + k + w) % (pow(2, 64))\n",
    "    \n",
    "    return t1"
   ]
  },
  {
   "cell_type": "code",
   "execution_count": 91,
   "metadata": {},
   "outputs": [
    {
     "data": {
      "text/plain": [
       "12932945023268808864"
      ]
     },
     "execution_count": 91,
     "metadata": {},
     "output_type": "execute_result"
    }
   ],
   "source": [
    "T1(register_strings, bin_fraction_80primes, W, 0)"
   ]
  },
  {
   "cell_type": "code",
   "execution_count": 92,
   "metadata": {},
   "outputs": [],
   "source": [
    "def T2(register_strings):\n",
    "    a = bin(int(register_strings[mapping['a']], 16))[2:].zfill(64)\n",
    "    b = bin(int(register_strings[mapping['b']], 16))[2:].zfill(64)\n",
    "    c = bin(int(register_strings[mapping['c']], 16))[2:].zfill(64)\n",
    "    \n",
    "    return ((int(Sigma_0(a), 2) + int(maj(a,b,c), 2)) % (pow(2, 64)))"
   ]
  },
  {
   "cell_type": "code",
   "execution_count": 93,
   "metadata": {},
   "outputs": [
    {
     "data": {
      "text/plain": [
       "4842708523825821013"
      ]
     },
     "execution_count": 93,
     "metadata": {},
     "output_type": "execute_result"
    }
   ],
   "source": [
    "T2(register_strings)"
   ]
  },
  {
   "cell_type": "code",
   "execution_count": 94,
   "metadata": {},
   "outputs": [],
   "source": [
    "def main_loop(register_strings, K, W, index):\n",
    "    t1 = T1(register_strings, K, W, index)\n",
    "    t2 = T2(register_strings)\n",
    "    \n",
    "    a = int(register_strings[mapping['a']], 16)\n",
    "    b = int(register_strings[mapping['b']], 16)\n",
    "    c = int(register_strings[mapping['c']], 16)\n",
    "    d = int(register_strings[mapping['d']], 16)\n",
    "    e = int(register_strings[mapping['e']], 16)\n",
    "    f = int(register_strings[mapping['f']], 16)\n",
    "    g = int(register_strings[mapping['g']], 16)\n",
    "    h = int(register_strings[mapping['h']], 16)\n",
    "    \n",
    "    h = hex(g)[2:]\n",
    "    g = hex(f)[2:]\n",
    "    f = hex(e)[2:]\n",
    "    e = hex((d + t1) % pow(2, 64))[2:]\n",
    "    d = hex(c)[2:]\n",
    "    c = hex(b)[2:]\n",
    "    b = hex(a)[2:]\n",
    "    a = hex((t1 + t2) % pow(2, 64))[2:]\n",
    "    \n",
    "    register_strings_2 = [a,b,c,d,e,f,g,h]\n",
    "    \n",
    "    return register_strings_2"
   ]
  },
  {
   "cell_type": "code",
   "execution_count": 95,
   "metadata": {},
   "outputs": [
    {
     "data": {
      "text/plain": [
       "['6a09e667f3bcc908',\n",
       " 'bb67ae8584caa73b',\n",
       " '3c6ef372fe94f82b',\n",
       " 'a54ff53a5f1d36f1',\n",
       " '510e527fade682d1',\n",
       " '9b05688c2b3e6c1f',\n",
       " '1f83d9abfb41bd6b',\n",
       " '5be0cd19137e2179']"
      ]
     },
     "execution_count": 95,
     "metadata": {},
     "output_type": "execute_result"
    }
   ],
   "source": [
    "register_strings"
   ]
  },
  {
   "cell_type": "code",
   "execution_count": 96,
   "metadata": {},
   "outputs": [
    {
     "data": {
      "text/plain": [
       "['f6afceb8bcfcddf5',\n",
       " '6a09e667f3bcc908',\n",
       " 'bb67ae8584caa73b',\n",
       " '3c6ef372fe94f82b',\n",
       " '58cb02347ab51f91',\n",
       " '510e527fade682d1',\n",
       " '9b05688c2b3e6c1f',\n",
       " '1f83d9abfb41bd6b']"
      ]
     },
     "execution_count": 96,
     "metadata": {},
     "output_type": "execute_result"
    }
   ],
   "source": [
    "main_loop(register_strings, bin_fraction_80primes, W, 0)"
   ]
  },
  {
   "cell_type": "code",
   "execution_count": 97,
   "metadata": {},
   "outputs": [],
   "source": [
    "new_register_strings = register_strings\n",
    "\n",
    "for i in range(80):\n",
    "    new_register_strings = main_loop(new_register_strings, bin_fraction_80primes, W, i)"
   ]
  },
  {
   "cell_type": "code",
   "execution_count": 98,
   "metadata": {},
   "outputs": [
    {
     "data": {
      "text/plain": [
       "['73a54f399fa4b1b2',\n",
       " '10d9c4c4295599f6',\n",
       " 'd67806db8b148677',\n",
       " '654ef9abec389ca9',\n",
       " 'd08446aa79693ed7',\n",
       " '9bb4d39778c07f9e',\n",
       " '25c96a7768fb2aa3',\n",
       " 'ceb9fc3691ce8326']"
      ]
     },
     "execution_count": 98,
     "metadata": {},
     "output_type": "execute_result"
    }
   ],
   "source": [
    "new_register_strings"
   ]
  },
  {
   "cell_type": "markdown",
   "metadata": {},
   "source": [
    "<details>\n",
    "<summary><b>5.4 - Update Hash Values <a class=\"anchor\" id=\"update_ith_hash_values\"></a> </b>(click to expand) </summary>\n",
    "    \n",
    "  <img src=\"SHA512-UpdateHashValues.jpg\" width=800 height=800>\n",
    "</details>"
   ]
  },
  {
   "cell_type": "code",
   "execution_count": 99,
   "metadata": {},
   "outputs": [
    {
     "data": {
      "text/plain": [
       "(['6a09e667f3bcc908',\n",
       "  'bb67ae8584caa73b',\n",
       "  '3c6ef372fe94f82b',\n",
       "  'a54ff53a5f1d36f1',\n",
       "  '510e527fade682d1',\n",
       "  '9b05688c2b3e6c1f',\n",
       "  '1f83d9abfb41bd6b',\n",
       "  '5be0cd19137e2179'],\n",
       " ['73a54f399fa4b1b2',\n",
       "  '10d9c4c4295599f6',\n",
       "  'd67806db8b148677',\n",
       "  '654ef9abec389ca9',\n",
       "  'd08446aa79693ed7',\n",
       "  '9bb4d39778c07f9e',\n",
       "  '25c96a7768fb2aa3',\n",
       "  'ceb9fc3691ce8326'])"
      ]
     },
     "execution_count": 99,
     "metadata": {},
     "output_type": "execute_result"
    }
   ],
   "source": [
    "register_strings, new_register_strings"
   ]
  },
  {
   "cell_type": "code",
   "execution_count": 100,
   "metadata": {},
   "outputs": [
    {
     "data": {
      "text/plain": [
       "[('6a09e667f3bcc908', '73a54f399fa4b1b2'),\n",
       " ('bb67ae8584caa73b', '10d9c4c4295599f6'),\n",
       " ('3c6ef372fe94f82b', 'd67806db8b148677'),\n",
       " ('a54ff53a5f1d36f1', '654ef9abec389ca9'),\n",
       " ('510e527fade682d1', 'd08446aa79693ed7'),\n",
       " ('9b05688c2b3e6c1f', '9bb4d39778c07f9e'),\n",
       " ('1f83d9abfb41bd6b', '25c96a7768fb2aa3'),\n",
       " ('5be0cd19137e2179', 'ceb9fc3691ce8326')]"
      ]
     },
     "execution_count": 100,
     "metadata": {},
     "output_type": "execute_result"
    }
   ],
   "source": [
    "list(zip(register_strings, new_register_strings))"
   ]
  },
  {
   "cell_type": "code",
   "execution_count": 101,
   "metadata": {},
   "outputs": [],
   "source": [
    "def update_register_strings(reg_str1, reg_str2):\n",
    "    reg_str3 = [hex((int(a, 16) + int(b, 16)) % (pow(2, 64)))[2:].zfill(16) for a, b in zip(reg_str1, reg_str2)]\n",
    "    return reg_str3"
   ]
  },
  {
   "cell_type": "code",
   "execution_count": 102,
   "metadata": {},
   "outputs": [
    {
     "data": {
      "text/plain": [
       "['ddaf35a193617aba',\n",
       " 'cc417349ae204131',\n",
       " '12e6fa4e89a97ea2',\n",
       " '0a9eeee64b55d39a',\n",
       " '2192992a274fc1a8',\n",
       " '36ba3c23a3feebbd',\n",
       " '454d4423643ce80e',\n",
       " '2a9ac94fa54ca49f']"
      ]
     },
     "execution_count": 102,
     "metadata": {},
     "output_type": "execute_result"
    }
   ],
   "source": [
    "update_register_strings(register_strings, new_register_strings)"
   ]
  },
  {
   "cell_type": "code",
   "execution_count": 103,
   "metadata": {},
   "outputs": [
    {
     "data": {
      "text/plain": [
       "'ddaf35a193617abacc417349ae20413112e6fa4e89a97ea20a9eeee64b55d39a2192992a274fc1a836ba3c23a3feebbd454d4423643ce80e2a9ac94fa54ca49f'"
      ]
     },
     "execution_count": 103,
     "metadata": {},
     "output_type": "execute_result"
    }
   ],
   "source": [
    "''.join(update_register_strings(register_strings, new_register_strings))"
   ]
  },
  {
   "cell_type": "markdown",
   "metadata": {},
   "source": [
    "<details>\n",
    "<summary><b>Message Digest </b>(click to expand) </summary>\n",
    "    \n",
    "  <img src=\"SHA512-MessageDigest.jpg\" width=800 height=800>\n",
    "</details>"
   ]
  },
  {
   "cell_type": "markdown",
   "metadata": {},
   "source": [
    "<b>Secure Hash and Message Digest Algorithm Library for Python </b>"
   ]
  },
  {
   "cell_type": "code",
   "execution_count": 104,
   "metadata": {},
   "outputs": [],
   "source": [
    "import hashlib"
   ]
  },
  {
   "cell_type": "code",
   "execution_count": 105,
   "metadata": {},
   "outputs": [],
   "source": [
    "string = \"abc\""
   ]
  },
  {
   "cell_type": "code",
   "execution_count": 106,
   "metadata": {},
   "outputs": [
    {
     "ename": "TypeError",
     "evalue": "Unicode-objects must be encoded before hashing",
     "output_type": "error",
     "traceback": [
      "\u001b[1;31m---------------------------------------------------------------------------\u001b[0m",
      "\u001b[1;31mTypeError\u001b[0m                                 Traceback (most recent call last)",
      "\u001b[1;32m<ipython-input-106-323781b7fd1e>\u001b[0m in \u001b[0;36m<module>\u001b[1;34m\u001b[0m\n\u001b[1;32m----> 1\u001b[1;33m \u001b[0mhashlib\u001b[0m\u001b[1;33m.\u001b[0m\u001b[0msha512\u001b[0m\u001b[1;33m(\u001b[0m\u001b[0mstring\u001b[0m\u001b[1;33m)\u001b[0m\u001b[1;33m\u001b[0m\u001b[1;33m\u001b[0m\u001b[0m\n\u001b[0m",
      "\u001b[1;31mTypeError\u001b[0m: Unicode-objects must be encoded before hashing"
     ]
    }
   ],
   "source": [
    "hashlib.sha512(string)"
   ]
  },
  {
   "cell_type": "code",
   "execution_count": 107,
   "metadata": {},
   "outputs": [
    {
     "data": {
      "text/plain": [
       "'abc'"
      ]
     },
     "execution_count": 107,
     "metadata": {},
     "output_type": "execute_result"
    }
   ],
   "source": [
    "string"
   ]
  },
  {
   "cell_type": "code",
   "execution_count": 108,
   "metadata": {},
   "outputs": [
    {
     "data": {
      "text/plain": [
       "b'abc'"
      ]
     },
     "execution_count": 108,
     "metadata": {},
     "output_type": "execute_result"
    }
   ],
   "source": [
    "string.encode(\"UTF-8\")"
   ]
  },
  {
   "cell_type": "code",
   "execution_count": 109,
   "metadata": {},
   "outputs": [
    {
     "data": {
      "text/plain": [
       "<sha512 HASH object @ 0x000002A0C69798B0>"
      ]
     },
     "execution_count": 109,
     "metadata": {},
     "output_type": "execute_result"
    }
   ],
   "source": [
    "hashlib.sha512(string.encode(\"UTF-8\"))"
   ]
  },
  {
   "cell_type": "code",
   "execution_count": 110,
   "metadata": {},
   "outputs": [
    {
     "data": {
      "text/plain": [
       "'ddaf35a193617abacc417349ae20413112e6fa4e89a97ea20a9eeee64b55d39a2192992a274fc1a836ba3c23a3feebbd454d4423643ce80e2a9ac94fa54ca49f'"
      ]
     },
     "execution_count": 110,
     "metadata": {},
     "output_type": "execute_result"
    }
   ],
   "source": [
    "hashlib.sha512(string.encode(\"UTF-8\")).hexdigest()"
   ]
  },
  {
   "cell_type": "code",
   "execution_count": null,
   "metadata": {},
   "outputs": [],
   "source": []
  }
 ],
 "metadata": {
  "@webio": {
   "lastCommId": null,
   "lastKernelId": null
  },
  "kernelspec": {
   "display_name": "Python 3",
   "language": "python",
   "name": "python3"
  },
  "language_info": {
   "codemirror_mode": {
    "name": "ipython",
    "version": 3
   },
   "file_extension": ".py",
   "mimetype": "text/x-python",
   "name": "python",
   "nbconvert_exporter": "python",
   "pygments_lexer": "ipython3",
   "version": "3.8.5"
  },
  "toc": {
   "base_numbering": 1,
   "nav_menu": {},
   "number_sections": true,
   "sideBar": true,
   "skip_h1_title": false,
   "title_cell": "Table of Contents",
   "title_sidebar": "Contents",
   "toc_cell": false,
   "toc_position": {},
   "toc_section_display": true,
   "toc_window_display": false
  }
 },
 "nbformat": 4,
 "nbformat_minor": 4
}
