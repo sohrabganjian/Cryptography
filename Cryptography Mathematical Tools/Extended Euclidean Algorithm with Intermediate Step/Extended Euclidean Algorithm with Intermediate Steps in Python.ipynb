{
 "cells": [
  {
   "cell_type": "markdown",
   "metadata": {},
   "source": [
    "### Link to the YouTube Video"
   ]
  },
  {
   "cell_type": "markdown",
   "metadata": {},
   "source": [
    "[![IMAGE ALT TEXT HERE](https://img.youtube.com/vi/EBWY7cT0Bco/0.jpg)](https://www.youtube.com/watch?v=EBWY7cT0Bco)\n",
    "\n",
    "https://www.youtube.com/watch?v=EBWY7cT0Bco"
   ]
  },
  {
   "cell_type": "markdown",
   "metadata": {},
   "source": [
    "### Table of Contents\n",
    "\n",
    "* [1 - b | a (b divides a)](#b|a)\n",
    "* [2 - General Case](#general)\n",
    "* [3 - Intermediate Steps](#intermediate)\n",
    "* [4 - Finishing Touches](#fnshtouch)"
   ]
  },
  {
   "cell_type": "markdown",
   "metadata": {},
   "source": [
    "Extended Euclidean Algorithm provides a systematic approach for expressing the $\\text{gcd}$ (greatest common divisor) of two numbers $a,b$ as a linear combination of $a,b$:\n",
    "\n",
    "$$\\text{gcd}(a,b) = ax + yb$$\n",
    "\n",
    "The Extended Euclidean Algorithm  helps us in finding integers $x$ and $y$ that satisfy this equation. \n",
    "\n",
    "For more information about [Extended Euclidean Algorithm and how it is computed, please consult its Wikipedia entry](https://en.wikipedia.org/wiki/Extended_Euclidean_algorithm). \n",
    "\n",
    "In this Pythonic implementation of Extended Euclidean Algorithm (EEA for short), not only we will see how we can find those integers $x$ and $y$, but also, we will see how they are derived as well! This is a great educational tutorial. \n",
    "\n",
    "In practice, we are usually only interested in integers $x$ and $y$ and the $\\text{gcd}(a,b)$; however, it may not be clear how those values are derived. By the end of this tutorial, we will know how to derive those numbers! "
   ]
  },
  {
   "cell_type": "markdown",
   "metadata": {},
   "source": [
    "### 1 - b | a (b divides a) <a class=\"anchor\" id=\"b|a\"></a>"
   ]
  },
  {
   "cell_type": "code",
   "execution_count": 1,
   "metadata": {},
   "outputs": [],
   "source": [
    "def EEA(a,b): # assume a >= b\n",
    "    if a % b == 0:\n",
    "        print(\"{} divides {}\\ngcd({},{}) = {}\".format(b,a,a,b,b))\n",
    "        print(\"\")\n",
    "        print(\"{} = ({} * {}) + ({} * {})\".format(b, a,1,b, -((a//b)-1)))"
   ]
  },
  {
   "cell_type": "code",
   "execution_count": 2,
   "metadata": {},
   "outputs": [
    {
     "name": "stdout",
     "output_type": "stream",
     "text": [
      "5 divides 15\n",
      "gcd(15,5) = 5\n",
      "\n",
      "5 = (15 * 1) + (5 * -2)\n"
     ]
    }
   ],
   "source": [
    "EEA(15,5)"
   ]
  },
  {
   "cell_type": "code",
   "execution_count": 3,
   "metadata": {},
   "outputs": [],
   "source": [
    "EEA(16,5)"
   ]
  },
  {
   "cell_type": "markdown",
   "metadata": {},
   "source": [
    "### 2 - General Case <a class=\"anchor\" id=\"general\"></a>"
   ]
  },
  {
   "cell_type": "markdown",
   "metadata": {},
   "source": [
    "<b>Division Components </b>\n",
    "  \n",
    "  <img src=\"division_components.jpg\" width=800 height=800>\n",
    "    \n",
    "   <img src=\"Euclidean Algorithm Steps.jpg\" width=800 height=800>"
   ]
  },
  {
   "cell_type": "code",
   "execution_count": 4,
   "metadata": {},
   "outputs": [],
   "source": [
    "def EEA(a,b):\n",
    "    if a % b == 0:\n",
    "        print(\"{} divides {}\\ngcd({},{}) = {}\".format(b,a,a,b,b))\n",
    "        print(\"\")\n",
    "        print(\"{} = ({} * {}) + ({} * {})\".format(b, a,1,b, -((a//b)-1)))\n",
    "        \n",
    "    a_initial = a\n",
    "    b_initial = b\n",
    "    r = a\n",
    "    \n",
    "    dividends = []\n",
    "    quotients = []\n",
    "    divisors = []\n",
    "    remainders = []\n",
    "    \n",
    "    while r > 0:\n",
    "        dividends.append(a)\n",
    "        quotients.append(a//b)\n",
    "        divisors.append(b)\n",
    "        remainders.append(a%b)\n",
    "        \n",
    "        a = b\n",
    "        b = remainders[-1]\n",
    "        r = remainders[-1]\n",
    "        \n",
    "    print(\"gcd({},{}) = {}\".format(a_initial, b_initial, remainders[-2]))"
   ]
  },
  {
   "cell_type": "code",
   "execution_count": 5,
   "metadata": {},
   "outputs": [
    {
     "name": "stdout",
     "output_type": "stream",
     "text": [
      "gcd(16,5) = 1\n"
     ]
    }
   ],
   "source": [
    "EEA(16,5)"
   ]
  },
  {
   "cell_type": "code",
   "execution_count": 6,
   "metadata": {},
   "outputs": [],
   "source": [
    "def EEA(a,b):\n",
    "    if a % b == 0:\n",
    "        print(\"{} divides {}\\ngcd({},{}) = {}\".format(b,a,a,b,b))\n",
    "        print(\"\")\n",
    "        print(\"{} = ({} * {}) + ({} * {})\".format(b, a,1,b, -((a//b)-1)))\n",
    "        \n",
    "    counter = 1\n",
    "    a_initial = a\n",
    "    b_initial = b\n",
    "    r = a\n",
    "    \n",
    "    dividends = []\n",
    "    quotients = []\n",
    "    divisors = []\n",
    "    remainders = []\n",
    "    \n",
    "    while r > 0:\n",
    "        dividends.append(a)\n",
    "        quotients.append(a//b)\n",
    "        divisors.append(b)\n",
    "        remainders.append(a%b)\n",
    "        \n",
    "        a = b\n",
    "        b = remainders[-1]\n",
    "        r = remainders[-1]\n",
    "        \n",
    "        if r != 0:\n",
    "            print(\"{} = {} * {} + {} \\t==>\\t{} = {} - {} * {} \\t\\t ({})\".format(\n",
    "                dividends[-1], divisors[-1], quotients[-1], remainders[-1],\n",
    "                remainders[-1], dividends[-1], divisors[-1], quotients[-1], counter\n",
    "            ))\n",
    "            counter = counter + 1\n",
    "    print(\"\")\n",
    "        \n",
    "    print(\"gcd({},{}) = {}\".format(a_initial, b_initial, remainders[-2]))"
   ]
  },
  {
   "cell_type": "code",
   "execution_count": 7,
   "metadata": {},
   "outputs": [
    {
     "name": "stdout",
     "output_type": "stream",
     "text": [
      "16 = 5 * 3 + 1 \t==>\t1 = 16 - 5 * 3 \t\t (1)\n",
      "\n",
      "gcd(16,5) = 1\n"
     ]
    }
   ],
   "source": [
    "EEA(16,5)"
   ]
  },
  {
   "cell_type": "code",
   "execution_count": 8,
   "metadata": {},
   "outputs": [
    {
     "name": "stdout",
     "output_type": "stream",
     "text": [
      "852 = 777 * 1 + 75 \t==>\t75 = 852 - 777 * 1 \t\t (1)\n",
      "777 = 75 * 10 + 27 \t==>\t27 = 777 - 75 * 10 \t\t (2)\n",
      "75 = 27 * 2 + 21 \t==>\t21 = 75 - 27 * 2 \t\t (3)\n",
      "27 = 21 * 1 + 6 \t==>\t6 = 27 - 21 * 1 \t\t (4)\n",
      "21 = 6 * 3 + 3 \t==>\t3 = 21 - 6 * 3 \t\t (5)\n",
      "\n",
      "gcd(852,777) = 3\n"
     ]
    }
   ],
   "source": [
    "EEA(852,777)"
   ]
  },
  {
   "cell_type": "code",
   "execution_count": 9,
   "metadata": {},
   "outputs": [],
   "source": [
    "def EEA(a,b):\n",
    "    if a % b == 0:\n",
    "        print(\"{} divides {}\\ngcd({},{}) = {}\".format(b,a,a,b,b))\n",
    "        print(\"\")\n",
    "        print(\"{} = ({} * {}) + ({} * {})\".format(b, a,1,b, -((a//b)-1)))\n",
    "        \n",
    "    counter = 1\n",
    "    a_initial = a\n",
    "    b_initial = b\n",
    "    r = a\n",
    "    \n",
    "    dividends = []\n",
    "    quotients = []\n",
    "    divisors = []\n",
    "    remainders = []\n",
    "    \n",
    "    while r > 0:\n",
    "        dividends.append(a)\n",
    "        quotients.append(a//b)\n",
    "        divisors.append(b)\n",
    "        remainders.append(a%b)\n",
    "        \n",
    "        a = b\n",
    "        b = remainders[-1]\n",
    "        r = remainders[-1]\n",
    "        \n",
    "        if r != 0:\n",
    "            print(\"{} = {} * {} + {} \\t==>\\t{} = {} - {} * {} \\t\\t ({})\".format(\n",
    "                dividends[-1], divisors[-1], quotients[-1], remainders[-1],\n",
    "                remainders[-1], dividends[-1], divisors[-1], quotients[-1], counter\n",
    "            ))\n",
    "            counter = counter + 1\n",
    "    print(\"\")\n",
    "        \n",
    "    print(\"gcd({},{}) = {}\".format(a_initial, b_initial, remainders[-2]))\n",
    "    \n",
    "    print(\"\")\n",
    "    \n",
    "    n = len(remainders)\n",
    "    if n == 2:\n",
    "        print(\"{} = ({} * {}) - ({} * {})\".format(a_initial%b_initial, a_initial, 1, b_initial, a_initial//b_initial))"
   ]
  },
  {
   "cell_type": "code",
   "execution_count": 10,
   "metadata": {},
   "outputs": [
    {
     "name": "stdout",
     "output_type": "stream",
     "text": [
      "16 = 5 * 3 + 1 \t==>\t1 = 16 - 5 * 3 \t\t (1)\n",
      "\n",
      "gcd(16,5) = 1\n",
      "\n",
      "1 = (16 * 1) - (5 * 3)\n"
     ]
    }
   ],
   "source": [
    "EEA(16,5)"
   ]
  },
  {
   "cell_type": "code",
   "execution_count": 11,
   "metadata": {},
   "outputs": [
    {
     "name": "stdout",
     "output_type": "stream",
     "text": [
      "852 = 777 * 1 + 75 \t==>\t75 = 852 - 777 * 1 \t\t (1)\n",
      "777 = 75 * 10 + 27 \t==>\t27 = 777 - 75 * 10 \t\t (2)\n",
      "75 = 27 * 2 + 21 \t==>\t21 = 75 - 27 * 2 \t\t (3)\n",
      "27 = 21 * 1 + 6 \t==>\t6 = 27 - 21 * 1 \t\t (4)\n",
      "21 = 6 * 3 + 3 \t==>\t3 = 21 - 6 * 3 \t\t (5)\n",
      "\n",
      "gcd(852,777) = 3\n",
      "\n"
     ]
    }
   ],
   "source": [
    "EEA(852, 777)"
   ]
  },
  {
   "cell_type": "markdown",
   "metadata": {},
   "source": [
    "### 3 - Intermediate Steps <a class=\"anchor\" id=\"intermediate\"></a>"
   ]
  },
  {
   "cell_type": "code",
   "execution_count": 12,
   "metadata": {},
   "outputs": [],
   "source": [
    "L = [3,21,1,6,-3]"
   ]
  },
  {
   "cell_type": "code",
   "execution_count": 13,
   "metadata": {},
   "outputs": [
    {
     "data": {
      "text/plain": [
       "3"
      ]
     },
     "execution_count": 13,
     "metadata": {},
     "output_type": "execute_result"
    }
   ],
   "source": [
    "21 * 1 + 6 * -3"
   ]
  },
  {
   "cell_type": "code",
   "execution_count": 14,
   "metadata": {},
   "outputs": [
    {
     "name": "stdout",
     "output_type": "stream",
     "text": [
      "3 = (21 * 1) + (6 * -3)\n"
     ]
    }
   ],
   "source": [
    "print(\"{} = ({} * {}) + ({} * {})\".format(L[0], L[1], L[2], L[3], L[4]))"
   ]
  },
  {
   "cell_type": "code",
   "execution_count": 15,
   "metadata": {},
   "outputs": [
    {
     "name": "stdout",
     "output_type": "stream",
     "text": [
      "3 = (21 * 1) + (6 * -3)\n"
     ]
    }
   ],
   "source": [
    "print(\"{} = ({} * {}) + ({} * {})\".format(*L))"
   ]
  },
  {
   "cell_type": "code",
   "execution_count": 16,
   "metadata": {},
   "outputs": [],
   "source": [
    "def find_coeff_gcd(L1, L2):\n",
    "    print(\"{} = ({} * {}) + ({} * {})\".format(L1[0], L1[1], L1[2], L1[3], L1[4]))\n",
    "    print(\"{} = ({} * {}) + ({} * {})\".format(L2[0], L2[1], L2[2], L2[3], L2[4]))\n",
    "    \n",
    "    print(\"\")\n",
    "    \n",
    "    print(\"==> {} = ({} * {}) + [({} * {}) + ({} * {})]*{}\\n\".format(\n",
    "    L1[0], L1[1], L1[2], L2[1], L2[2], L2[3], L2[4], L1[4]\n",
    "    ))\n",
    "    \n",
    "    print(\"Collect coefficients in terms of {} and {}\".format(L2[1], L1[1]))\n",
    "    \n",
    "    print(\"==> {} = ({} * {}) + ({} * {})\\n\".format(\n",
    "        L1[0], L2[1], L2[2]*L1[4], L1[1], L1[2]+(L2[4]*L1[4])\n",
    "    ))\n",
    "    L3 = [L1[0], L2[1], L2[2]*L1[4], L1[1], L1[2]+(L2[4]*L1[4])]\n",
    "    return L3"
   ]
  },
  {
   "cell_type": "code",
   "execution_count": 17,
   "metadata": {},
   "outputs": [
    {
     "name": "stdout",
     "output_type": "stream",
     "text": [
      "3 = (21 * 1) + (6 * -3)\n",
      "6 = (27 * 1) + (21 * -1)\n",
      "\n",
      "==> 3 = (21 * 1) + [(27 * 1) + (21 * -1)]*-3\n",
      "\n",
      "Collect coefficients in terms of 27 and 21\n",
      "==> 3 = (27 * -3) + (21 * 4)\n",
      "\n"
     ]
    },
    {
     "data": {
      "text/plain": [
       "[3, 27, -3, 21, 4]"
      ]
     },
     "execution_count": 17,
     "metadata": {},
     "output_type": "execute_result"
    }
   ],
   "source": [
    "find_coeff_gcd([3,21,1,6,-3],[6,27,1,21,-1])"
   ]
  },
  {
   "cell_type": "code",
   "execution_count": 18,
   "metadata": {},
   "outputs": [],
   "source": [
    "def EEA(a,b):\n",
    "    if a % b == 0:\n",
    "        print(\"{} divides {}\\ngcd({},{}) = {}\".format(b,a,a,b,b))\n",
    "        print(\"\")\n",
    "        print(\"{} = ({} * {}) + ({} * {})\".format(b, a,1,b, -((a//b)-1)))\n",
    "        \n",
    "    counter = 1\n",
    "    a_initial = a\n",
    "    b_initial = b\n",
    "    r = a\n",
    "    \n",
    "    dividends = []\n",
    "    quotients = []\n",
    "    divisors = []\n",
    "    remainders = []\n",
    "    \n",
    "    while r > 0:\n",
    "        dividends.append(a)\n",
    "        quotients.append(a//b)\n",
    "        divisors.append(b)\n",
    "        remainders.append(a%b)\n",
    "        \n",
    "        a = b\n",
    "        b = remainders[-1]\n",
    "        r = remainders[-1]\n",
    "        \n",
    "        if r != 0:\n",
    "            print(\"{} = {} * {} + {} \\t==>\\t{} = {} - {} * {} \\t\\t ({})\".format(\n",
    "                dividends[-1], divisors[-1], quotients[-1], remainders[-1],\n",
    "                remainders[-1], dividends[-1], divisors[-1], quotients[-1], counter\n",
    "            ))\n",
    "            counter = counter + 1\n",
    "    print(\"\")\n",
    "        \n",
    "    print(\"gcd({},{}) = {}\".format(a_initial, b_initial, remainders[-2]))\n",
    "    \n",
    "    print(\"\")\n",
    "    \n",
    "    n = len(remainders)\n",
    "    if n == 2:\n",
    "        print(\"{} = ({} * {}) - ({} * {})\".format(a_initial%b_initial, a_initial, 1, b_initial, a_initial//b_initial))\n",
    "        \n",
    "    else:\n",
    "        gcd = remainders[-2]\n",
    "        coeffs1 = [gcd, dividends[-2], 1, divisors[-2], -quotients[-2]]\n",
    "        \n",
    "        for i in range(len(dividends)-2):\n",
    "            index = n - (3+i)\n",
    "            coeffs2 = [remainders[index], dividends[index], 1, divisors[index], -quotients[index]]\n",
    "            coeffs1 = find_coeff_gcd(coeffs1, coeffs2)"
   ]
  },
  {
   "cell_type": "code",
   "execution_count": 19,
   "metadata": {},
   "outputs": [
    {
     "name": "stdout",
     "output_type": "stream",
     "text": [
      "852 = 777 * 1 + 75 \t==>\t75 = 852 - 777 * 1 \t\t (1)\n",
      "777 = 75 * 10 + 27 \t==>\t27 = 777 - 75 * 10 \t\t (2)\n",
      "75 = 27 * 2 + 21 \t==>\t21 = 75 - 27 * 2 \t\t (3)\n",
      "27 = 21 * 1 + 6 \t==>\t6 = 27 - 21 * 1 \t\t (4)\n",
      "21 = 6 * 3 + 3 \t==>\t3 = 21 - 6 * 3 \t\t (5)\n",
      "\n",
      "gcd(852,777) = 3\n",
      "\n",
      "3 = (21 * 1) + (6 * -3)\n",
      "6 = (27 * 1) + (21 * -1)\n",
      "\n",
      "==> 3 = (21 * 1) + [(27 * 1) + (21 * -1)]*-3\n",
      "\n",
      "Collect coefficients in terms of 27 and 21\n",
      "==> 3 = (27 * -3) + (21 * 4)\n",
      "\n",
      "3 = (27 * -3) + (21 * 4)\n",
      "21 = (75 * 1) + (27 * -2)\n",
      "\n",
      "==> 3 = (27 * -3) + [(75 * 1) + (27 * -2)]*4\n",
      "\n",
      "Collect coefficients in terms of 75 and 27\n",
      "==> 3 = (75 * 4) + (27 * -11)\n",
      "\n",
      "3 = (75 * 4) + (27 * -11)\n",
      "27 = (777 * 1) + (75 * -10)\n",
      "\n",
      "==> 3 = (75 * 4) + [(777 * 1) + (75 * -10)]*-11\n",
      "\n",
      "Collect coefficients in terms of 777 and 75\n",
      "==> 3 = (777 * -11) + (75 * 114)\n",
      "\n",
      "3 = (777 * -11) + (75 * 114)\n",
      "75 = (852 * 1) + (777 * -1)\n",
      "\n",
      "==> 3 = (777 * -11) + [(852 * 1) + (777 * -1)]*114\n",
      "\n",
      "Collect coefficients in terms of 852 and 777\n",
      "==> 3 = (852 * 114) + (777 * -125)\n",
      "\n"
     ]
    }
   ],
   "source": [
    "EEA(852, 777)"
   ]
  },
  {
   "cell_type": "code",
   "execution_count": 20,
   "metadata": {},
   "outputs": [],
   "source": [
    "def find_coeff_gcd(L1, L2, i=2, n=2):\n",
    "    \n",
    "    if i == 2:\n",
    "        print(\"{} = ({} * {}) + ({} * {})\\t\\t({})\".format(L1[0], L1[1], L1[2], L1[3], L1[4], n))\n",
    "        print(\"{} = ({} * {}) + ({} * {})\\t\\t({})\".format(L2[0], L2[1], L2[2], L2[3], L2[4], n-1))\n",
    "        j = n\n",
    "        \n",
    "    else:\n",
    "        print(\"{} = ({} * {}) + ({} * {})\\t\\t({})\".format(L1[0], L1[1], L1[2], L1[3], L1[4], i+n-2))\n",
    "        print(\"{} = ({} * {}) + ({} * {})\\t\\t({})\".format(L2[0], L2[1], L2[2], L2[3], L2[4], n-i+1))\n",
    "        j = i + n -2 \n",
    "        \n",
    "    print(\"\")\n",
    "    print(\"Use equation ({}) to substitute {} in equation ({})\".format(n-i+1, L2[0], j))\n",
    "    \n",
    "    print(\"==> {} = ({} * {}) + [({} * {}) + ({} * {})]*{}\\n\".format(\n",
    "    L1[0], L1[1], L1[2], L2[1], L2[2], L2[3], L2[4], L1[4]\n",
    "    ))\n",
    "    \n",
    "    print(\"Collect coefficients in terms of {} and {}\".format(L2[1], L1[1]))\n",
    "    \n",
    "    print(\"==> {} = ({} * {}) + ({} * {})\\t\\t({})\\n\".format(\n",
    "        L1[0], L2[1], L2[2]*L1[4], L1[1], L1[2]+(L2[4]*L1[4]), i+n-1\n",
    "    ))\n",
    "    L3 = [L1[0], L2[1], L2[2]*L1[4], L1[1], L1[2]+(L2[4]*L1[4])]\n",
    "    return L3"
   ]
  },
  {
   "cell_type": "code",
   "execution_count": 21,
   "metadata": {},
   "outputs": [],
   "source": [
    "def EEA(a,b):\n",
    "    if a % b == 0:\n",
    "        print(\"{} divides {}\\ngcd({},{}) = {}\".format(b,a,a,b,b))\n",
    "        print(\"\")\n",
    "        print(\"{} = ({} * {}) + ({} * {})\".format(b, a,1,b, -((a//b)-1)))\n",
    "        \n",
    "    counter = 1\n",
    "    a_initial = a\n",
    "    b_initial = b\n",
    "    r = a\n",
    "    \n",
    "    dividends = []\n",
    "    quotients = []\n",
    "    divisors = []\n",
    "    remainders = []\n",
    "    \n",
    "    while r > 0:\n",
    "        dividends.append(a)\n",
    "        quotients.append(a//b)\n",
    "        divisors.append(b)\n",
    "        remainders.append(a%b)\n",
    "        \n",
    "        a = b\n",
    "        b = remainders[-1]\n",
    "        r = remainders[-1]\n",
    "        \n",
    "        if r != 0:\n",
    "            print(\"{} = {} * {} + {} \\t==>\\t{} = {} - {} * {} \\t\\t ({})\".format(\n",
    "                dividends[-1], divisors[-1], quotients[-1], remainders[-1],\n",
    "                remainders[-1], dividends[-1], divisors[-1], quotients[-1], counter\n",
    "            ))\n",
    "            counter = counter + 1\n",
    "    print(\"\")\n",
    "        \n",
    "    print(\"gcd({},{}) = {}\".format(a_initial, b_initial, remainders[-2]))\n",
    "    \n",
    "    print(\"\")\n",
    "    \n",
    "    n = len(remainders)\n",
    "    if n == 2:\n",
    "        print(\"{} = ({} * {}) - ({} * {})\".format(a_initial%b_initial, a_initial, 1, b_initial, a_initial//b_initial))\n",
    "        \n",
    "    else:\n",
    "        gcd = remainders[-2]\n",
    "        coeffs1 = [gcd, dividends[-2], 1, divisors[-2], -quotients[-2]]\n",
    "        \n",
    "        for i in range(len(dividends)-2):\n",
    "            index = n - (3+i)\n",
    "            coeffs2 = [remainders[index], dividends[index], 1, divisors[index], -quotients[index]]\n",
    "            coeffs1 = find_coeff_gcd(coeffs1, coeffs2, i+2, n-1)"
   ]
  },
  {
   "cell_type": "code",
   "execution_count": 22,
   "metadata": {},
   "outputs": [
    {
     "name": "stdout",
     "output_type": "stream",
     "text": [
      "852 = 777 * 1 + 75 \t==>\t75 = 852 - 777 * 1 \t\t (1)\n",
      "777 = 75 * 10 + 27 \t==>\t27 = 777 - 75 * 10 \t\t (2)\n",
      "75 = 27 * 2 + 21 \t==>\t21 = 75 - 27 * 2 \t\t (3)\n",
      "27 = 21 * 1 + 6 \t==>\t6 = 27 - 21 * 1 \t\t (4)\n",
      "21 = 6 * 3 + 3 \t==>\t3 = 21 - 6 * 3 \t\t (5)\n",
      "\n",
      "gcd(852,777) = 3\n",
      "\n",
      "3 = (21 * 1) + (6 * -3)\t\t(5)\n",
      "6 = (27 * 1) + (21 * -1)\t\t(4)\n",
      "\n",
      "Use equation (4) to substitute 6 in equation (5)\n",
      "==> 3 = (21 * 1) + [(27 * 1) + (21 * -1)]*-3\n",
      "\n",
      "Collect coefficients in terms of 27 and 21\n",
      "==> 3 = (27 * -3) + (21 * 4)\t\t(6)\n",
      "\n",
      "3 = (27 * -3) + (21 * 4)\t\t(6)\n",
      "21 = (75 * 1) + (27 * -2)\t\t(3)\n",
      "\n",
      "Use equation (3) to substitute 21 in equation (6)\n",
      "==> 3 = (27 * -3) + [(75 * 1) + (27 * -2)]*4\n",
      "\n",
      "Collect coefficients in terms of 75 and 27\n",
      "==> 3 = (75 * 4) + (27 * -11)\t\t(7)\n",
      "\n",
      "3 = (75 * 4) + (27 * -11)\t\t(7)\n",
      "27 = (777 * 1) + (75 * -10)\t\t(2)\n",
      "\n",
      "Use equation (2) to substitute 27 in equation (7)\n",
      "==> 3 = (75 * 4) + [(777 * 1) + (75 * -10)]*-11\n",
      "\n",
      "Collect coefficients in terms of 777 and 75\n",
      "==> 3 = (777 * -11) + (75 * 114)\t\t(8)\n",
      "\n",
      "3 = (777 * -11) + (75 * 114)\t\t(8)\n",
      "75 = (852 * 1) + (777 * -1)\t\t(1)\n",
      "\n",
      "Use equation (1) to substitute 75 in equation (8)\n",
      "==> 3 = (777 * -11) + [(852 * 1) + (777 * -1)]*114\n",
      "\n",
      "Collect coefficients in terms of 852 and 777\n",
      "==> 3 = (852 * 114) + (777 * -125)\t\t(9)\n",
      "\n"
     ]
    }
   ],
   "source": [
    "EEA(852, 777)"
   ]
  },
  {
   "cell_type": "code",
   "execution_count": 23,
   "metadata": {},
   "outputs": [
    {
     "data": {
      "text/plain": [
       "3"
      ]
     },
     "execution_count": 23,
     "metadata": {},
     "output_type": "execute_result"
    }
   ],
   "source": [
    "852*114 + 777*(-125)"
   ]
  },
  {
   "cell_type": "markdown",
   "metadata": {},
   "source": [
    "### 4 - Finishing Touches <a class=\"anchor\" id=\"fnshtouch\"></a>"
   ]
  },
  {
   "cell_type": "code",
   "execution_count": 24,
   "metadata": {},
   "outputs": [],
   "source": [
    "def EEA(a,b):\n",
    "    if a % b == 0:\n",
    "        print(\"{} divides {}\\ngcd({},{}) = {}\".format(b,a,a,b,b))\n",
    "        print(\"\")\n",
    "        print(\"{} = ({} * {}) + ({} * {})\".format(b, a,1,b, -((a//b)-1)))\n",
    "        return\n",
    "        \n",
    "    counter = 1\n",
    "    a_initial = a\n",
    "    b_initial = b\n",
    "    r = a\n",
    "    \n",
    "    dividends = []\n",
    "    quotients = []\n",
    "    divisors = []\n",
    "    remainders = []\n",
    "    \n",
    "    while r > 0:\n",
    "        dividends.append(a)\n",
    "        quotients.append(a//b)\n",
    "        divisors.append(b)\n",
    "        remainders.append(a%b)\n",
    "        \n",
    "        a = b\n",
    "        b = remainders[-1]\n",
    "        r = remainders[-1]\n",
    "        \n",
    "        if r != 0:\n",
    "            print(\"{} = {} * {} + {} \\t==>\\t{} = {} - {} * {} \\t\\t ({})\".format(\n",
    "                dividends[-1], divisors[-1], quotients[-1], remainders[-1],\n",
    "                remainders[-1], dividends[-1], divisors[-1], quotients[-1], counter\n",
    "            ))\n",
    "            counter = counter + 1\n",
    "    print(\"\")\n",
    "        \n",
    "    print(\"gcd({},{}) = {}\".format(a_initial, b_initial, remainders[-2]))\n",
    "    \n",
    "    print(\"\")\n",
    "    \n",
    "    n = len(remainders)\n",
    "    if n == 2:\n",
    "        print(\"{} = ({} * {}) - ({} * {})\".format(a_initial%b_initial, a_initial, 1, b_initial, a_initial//b_initial))\n",
    "        \n",
    "    else:\n",
    "        gcd = remainders[-2]\n",
    "        coeffs1 = [gcd, dividends[-2], 1, divisors[-2], -quotients[-2]]\n",
    "        \n",
    "        for i in range(len(dividends)-2):\n",
    "            index = n - (3+i)\n",
    "            coeffs2 = [remainders[index], dividends[index], 1, divisors[index], -quotients[index]]\n",
    "            coeffs1 = find_coeff_gcd(coeffs1, coeffs2, i+2, n-1)\n",
    "            \n",
    "        print(\"Verification:\\nIs {} = ({} * {}) + ({} * {})?\".format(\n",
    "        coeffs1[0], coeffs1[3], coeffs1[4], coeffs1[1], coeffs1[2]\n",
    "        ))\n",
    "        \n",
    "        if coeffs1[0] == (coeffs1[1] * coeffs1[2]) + (coeffs1[3] * coeffs1[4]):\n",
    "            print(\"Yes!\\n\")\n",
    "            print(\"Conclusion:\\ngcd({},{}) = {}\".format(a_initial, b_initial, gcd))\n",
    "            print(\"gcd({}, {}) = ({} * {}) + ({} * {}) = {}\".format(\n",
    "            a_initial, b_initial, coeffs1[3], coeffs1[4], coeffs1[1], coeffs1[2], gcd           \n",
    "            ))\n",
    "        else: \n",
    "            print(\"No!\")"
   ]
  },
  {
   "cell_type": "code",
   "execution_count": 25,
   "metadata": {},
   "outputs": [
    {
     "name": "stdout",
     "output_type": "stream",
     "text": [
      "852 = 777 * 1 + 75 \t==>\t75 = 852 - 777 * 1 \t\t (1)\n",
      "777 = 75 * 10 + 27 \t==>\t27 = 777 - 75 * 10 \t\t (2)\n",
      "75 = 27 * 2 + 21 \t==>\t21 = 75 - 27 * 2 \t\t (3)\n",
      "27 = 21 * 1 + 6 \t==>\t6 = 27 - 21 * 1 \t\t (4)\n",
      "21 = 6 * 3 + 3 \t==>\t3 = 21 - 6 * 3 \t\t (5)\n",
      "\n",
      "gcd(852,777) = 3\n",
      "\n",
      "3 = (21 * 1) + (6 * -3)\t\t(5)\n",
      "6 = (27 * 1) + (21 * -1)\t\t(4)\n",
      "\n",
      "Use equation (4) to substitute 6 in equation (5)\n",
      "==> 3 = (21 * 1) + [(27 * 1) + (21 * -1)]*-3\n",
      "\n",
      "Collect coefficients in terms of 27 and 21\n",
      "==> 3 = (27 * -3) + (21 * 4)\t\t(6)\n",
      "\n",
      "3 = (27 * -3) + (21 * 4)\t\t(6)\n",
      "21 = (75 * 1) + (27 * -2)\t\t(3)\n",
      "\n",
      "Use equation (3) to substitute 21 in equation (6)\n",
      "==> 3 = (27 * -3) + [(75 * 1) + (27 * -2)]*4\n",
      "\n",
      "Collect coefficients in terms of 75 and 27\n",
      "==> 3 = (75 * 4) + (27 * -11)\t\t(7)\n",
      "\n",
      "3 = (75 * 4) + (27 * -11)\t\t(7)\n",
      "27 = (777 * 1) + (75 * -10)\t\t(2)\n",
      "\n",
      "Use equation (2) to substitute 27 in equation (7)\n",
      "==> 3 = (75 * 4) + [(777 * 1) + (75 * -10)]*-11\n",
      "\n",
      "Collect coefficients in terms of 777 and 75\n",
      "==> 3 = (777 * -11) + (75 * 114)\t\t(8)\n",
      "\n",
      "3 = (777 * -11) + (75 * 114)\t\t(8)\n",
      "75 = (852 * 1) + (777 * -1)\t\t(1)\n",
      "\n",
      "Use equation (1) to substitute 75 in equation (8)\n",
      "==> 3 = (777 * -11) + [(852 * 1) + (777 * -1)]*114\n",
      "\n",
      "Collect coefficients in terms of 852 and 777\n",
      "==> 3 = (852 * 114) + (777 * -125)\t\t(9)\n",
      "\n",
      "Verification:\n",
      "Is 3 = (777 * -125) + (852 * 114)?\n",
      "Yes!\n",
      "\n",
      "Conclusion:\n",
      "gcd(852,777) = 3\n",
      "gcd(852, 777) = (777 * -125) + (852 * 114) = 3\n"
     ]
    }
   ],
   "source": [
    "EEA(852, 777)"
   ]
  },
  {
   "cell_type": "code",
   "execution_count": 26,
   "metadata": {},
   "outputs": [
    {
     "name": "stdout",
     "output_type": "stream",
     "text": [
      "6 divides 6\n",
      "gcd(6,6) = 6\n",
      "\n",
      "6 = (6 * 1) + (6 * 0)\n"
     ]
    }
   ],
   "source": [
    "EEA(6,6)"
   ]
  },
  {
   "cell_type": "code",
   "execution_count": 27,
   "metadata": {},
   "outputs": [
    {
     "name": "stdout",
     "output_type": "stream",
     "text": [
      "2 divides 6\n",
      "gcd(6,2) = 2\n",
      "\n",
      "2 = (6 * 1) + (2 * -2)\n"
     ]
    }
   ],
   "source": [
    "EEA(6,2)"
   ]
  },
  {
   "cell_type": "code",
   "execution_count": 28,
   "metadata": {},
   "outputs": [
    {
     "name": "stdout",
     "output_type": "stream",
     "text": [
      "7 = 2 * 3 + 1 \t==>\t1 = 7 - 2 * 3 \t\t (1)\n",
      "\n",
      "gcd(7,2) = 1\n",
      "\n",
      "1 = (7 * 1) - (2 * 3)\n"
     ]
    }
   ],
   "source": [
    "EEA(7,2)"
   ]
  },
  {
   "cell_type": "code",
   "execution_count": 29,
   "metadata": {},
   "outputs": [
    {
     "name": "stdout",
     "output_type": "stream",
     "text": [
      "852 = 777 * 1 + 75 \t==>\t75 = 852 - 777 * 1 \t\t (1)\n",
      "777 = 75 * 10 + 27 \t==>\t27 = 777 - 75 * 10 \t\t (2)\n",
      "75 = 27 * 2 + 21 \t==>\t21 = 75 - 27 * 2 \t\t (3)\n",
      "27 = 21 * 1 + 6 \t==>\t6 = 27 - 21 * 1 \t\t (4)\n",
      "21 = 6 * 3 + 3 \t==>\t3 = 21 - 6 * 3 \t\t (5)\n",
      "\n",
      "gcd(852,777) = 3\n",
      "\n",
      "3 = (21 * 1) + (6 * -3)\t\t(5)\n",
      "6 = (27 * 1) + (21 * -1)\t\t(4)\n",
      "\n",
      "Use equation (4) to substitute 6 in equation (5)\n",
      "==> 3 = (21 * 1) + [(27 * 1) + (21 * -1)]*-3\n",
      "\n",
      "Collect coefficients in terms of 27 and 21\n",
      "==> 3 = (27 * -3) + (21 * 4)\t\t(6)\n",
      "\n",
      "3 = (27 * -3) + (21 * 4)\t\t(6)\n",
      "21 = (75 * 1) + (27 * -2)\t\t(3)\n",
      "\n",
      "Use equation (3) to substitute 21 in equation (6)\n",
      "==> 3 = (27 * -3) + [(75 * 1) + (27 * -2)]*4\n",
      "\n",
      "Collect coefficients in terms of 75 and 27\n",
      "==> 3 = (75 * 4) + (27 * -11)\t\t(7)\n",
      "\n",
      "3 = (75 * 4) + (27 * -11)\t\t(7)\n",
      "27 = (777 * 1) + (75 * -10)\t\t(2)\n",
      "\n",
      "Use equation (2) to substitute 27 in equation (7)\n",
      "==> 3 = (75 * 4) + [(777 * 1) + (75 * -10)]*-11\n",
      "\n",
      "Collect coefficients in terms of 777 and 75\n",
      "==> 3 = (777 * -11) + (75 * 114)\t\t(8)\n",
      "\n",
      "3 = (777 * -11) + (75 * 114)\t\t(8)\n",
      "75 = (852 * 1) + (777 * -1)\t\t(1)\n",
      "\n",
      "Use equation (1) to substitute 75 in equation (8)\n",
      "==> 3 = (777 * -11) + [(852 * 1) + (777 * -1)]*114\n",
      "\n",
      "Collect coefficients in terms of 852 and 777\n",
      "==> 3 = (852 * 114) + (777 * -125)\t\t(9)\n",
      "\n",
      "Verification:\n",
      "Is 3 = (777 * -125) + (852 * 114)?\n",
      "Yes!\n",
      "\n",
      "Conclusion:\n",
      "gcd(852,777) = 3\n",
      "gcd(852, 777) = (777 * -125) + (852 * 114) = 3\n"
     ]
    }
   ],
   "source": [
    "EEA(852, 777)"
   ]
  },
  {
   "cell_type": "markdown",
   "metadata": {},
   "source": [
    "In Python, `math` package offers a method to compute `gcd` as well!"
   ]
  },
  {
   "cell_type": "code",
   "execution_count": 30,
   "metadata": {},
   "outputs": [],
   "source": [
    "import math"
   ]
  },
  {
   "cell_type": "code",
   "execution_count": 31,
   "metadata": {},
   "outputs": [
    {
     "data": {
      "text/plain": [
       "3"
      ]
     },
     "execution_count": 31,
     "metadata": {},
     "output_type": "execute_result"
    }
   ],
   "source": [
    "math.gcd(852, 777)"
   ]
  },
  {
   "cell_type": "markdown",
   "metadata": {},
   "source": [
    "We can verify our implementation agrees with Python's implementation; however, `math.gcd` does not reveal all the details!"
   ]
  },
  {
   "cell_type": "markdown",
   "metadata": {},
   "source": [
    "## I hope you enjoyed it! Thank you for following along. "
   ]
  },
  {
   "cell_type": "code",
   "execution_count": null,
   "metadata": {},
   "outputs": [],
   "source": []
  }
 ],
 "metadata": {
  "@webio": {
   "lastCommId": null,
   "lastKernelId": null
  },
  "kernelspec": {
   "display_name": "Python 3",
   "language": "python",
   "name": "python3"
  },
  "language_info": {
   "codemirror_mode": {
    "name": "ipython",
    "version": 3
   },
   "file_extension": ".py",
   "mimetype": "text/x-python",
   "name": "python",
   "nbconvert_exporter": "python",
   "pygments_lexer": "ipython3",
   "version": "3.8.5"
  }
 },
 "nbformat": 4,
 "nbformat_minor": 4
}
